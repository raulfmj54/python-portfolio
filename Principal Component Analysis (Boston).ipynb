{
 "cells": [
  {
   "cell_type": "markdown",
   "metadata": {},
   "source": [
    "# PCA"
   ]
  },
  {
   "cell_type": "markdown",
   "metadata": {},
   "source": [
    "## Importando de librerías"
   ]
  },
  {
   "cell_type": "code",
   "execution_count": 1,
   "metadata": {},
   "outputs": [],
   "source": [
    "import numpy as np\n",
    "import pandas as pd\n",
    "import seaborn as sns\n",
    "import matplotlib.pyplot as plt\n",
    "from sklearn import datasets\n",
    "from sklearn.decomposition import PCA\n",
    "from sklearn.preprocessing import StandardScaler\n",
    "\n",
    "%matplotlib inline"
   ]
  },
  {
   "cell_type": "markdown",
   "metadata": {},
   "source": [
    "# Loading dataset"
   ]
  },
  {
   "cell_type": "code",
   "execution_count": 2,
   "metadata": {},
   "outputs": [],
   "source": [
    "bchBoston = datasets.load_boston()\n",
    "dfBoston_features = pd.DataFrame(bchBoston.data, columns=bchBoston.feature_names)\n",
    "dfBoston_target = pd.DataFrame(bchBoston.target, columns=['MEDV'])"
   ]
  },
  {
   "cell_type": "markdown",
   "metadata": {},
   "source": [
    "# Estandarización de los datos"
   ]
  },
  {
   "cell_type": "code",
   "execution_count": 7,
   "metadata": {},
   "outputs": [],
   "source": [
    "dfWFeatures_std = StandardScaler().fit_transform(dfBoston_features)\n",
    "covariance_matrix = PCA(n_components=13)\n",
    "#ovariance_matrix = PCA(0.8)\n"
   ]
  },
  {
   "cell_type": "markdown",
   "metadata": {},
   "source": [
    "# Eigenvectores y Eigenvalores de la matriz de covarianza"
   ]
  },
  {
   "cell_type": "code",
   "execution_count": 8,
   "metadata": {},
   "outputs": [],
   "source": [
    "covariance_matrix.fit(dfWFeatures_std)\n",
    "variance = covariance_matrix.explained_variance_ratio_"
   ]
  },
  {
   "cell_type": "code",
   "execution_count": 9,
   "metadata": {},
   "outputs": [
    {
     "data": {
      "text/plain": [
       "array([47.1, 58.1, 67.7, 74.3, 80.7, 85.8, 89.9, 92.9, 95. , 96.7, 98.1,\n",
       "       99.4, 99.9])"
      ]
     },
     "execution_count": 9,
     "metadata": {},
     "output_type": "execute_result"
    }
   ],
   "source": [
    "var=np.cumsum(np.round(covariance_matrix.explained_variance_ratio_, decimals=3)*100)\n",
    "var"
   ]
  },
  {
   "cell_type": "code",
   "execution_count": 10,
   "metadata": {},
   "outputs": [
    {
     "data": {
      "text/plain": [
       "[<matplotlib.lines.Line2D at 0x1df0866c9b0>]"
      ]
     },
     "execution_count": 10,
     "metadata": {},
     "output_type": "execute_result"
    },
    {
     "data": {
      "image/png": "[encoded data removed]",
      "text/plain": [
       "<Figure size 432x288 with 1 Axes>"
      ]
     },
     "metadata": {
      "needs_background": "light"
     },
     "output_type": "display_data"
    }
   ],
   "source": [
    "plt.ylabel('% Variance Explained')\n",
    "plt.xlabel('# of Features')\n",
    "plt.title('PCA Analysis')\n",
    "plt.ylim(30,100.5)\n",
    "plt.style.context('seaborn-whitegrid')\n",
    "\n",
    "plt.plot(var)"
   ]
  },
  {
   "cell_type": "markdown",
   "metadata": {},
   "source": [
    "# Encontrando componentes"
   ]
  },
  {
   "cell_type": "code",
   "execution_count": 19,
   "metadata": {},
   "outputs": [
    {
     "data": {
      "text/html": [
       "<div>\n",
       "<style scoped>\n",
       "    .dataframe tbody tr th:only-of-type {\n",
       "        vertical-align: middle;\n",
       "    }\n",
       "\n",
       "    .dataframe tbody tr th {\n",
       "        vertical-align: top;\n",
       "    }\n",
       "\n",
       "    .dataframe thead th {\n",
       "        text-align: right;\n",
       "    }\n",
       "</style>\n",
       "<table border=\"1\" class=\"dataframe\">\n",
       "  <thead>\n",
       "    <tr style=\"text-align: right;\">\n",
       "      <th></th>\n",
       "      <th>0</th>\n",
       "      <th>1</th>\n",
       "      <th>2</th>\n",
       "      <th>3</th>\n",
       "      <th>4</th>\n",
       "      <th>5</th>\n",
       "      <th>6</th>\n",
       "      <th>7</th>\n",
       "      <th>8</th>\n",
       "      <th>9</th>\n",
       "      <th>10</th>\n",
       "      <th>11</th>\n",
       "      <th>12</th>\n",
       "    </tr>\n",
       "  </thead>\n",
       "  <tbody>\n",
       "    <tr>\n",
       "      <th>0</th>\n",
       "      <td>-2.098297</td>\n",
       "      <td>0.773113</td>\n",
       "      <td>0.342943</td>\n",
       "      <td>-0.891774</td>\n",
       "      <td>0.423070</td>\n",
       "      <td>-0.315338</td>\n",
       "      <td>0.318641</td>\n",
       "      <td>0.295832</td>\n",
       "      <td>-0.424937</td>\n",
       "      <td>0.640206</td>\n",
       "      <td>-0.033000</td>\n",
       "      <td>0.019440</td>\n",
       "      <td>0.365975</td>\n",
       "    </tr>\n",
       "    <tr>\n",
       "      <th>1</th>\n",
       "      <td>-1.457252</td>\n",
       "      <td>0.591985</td>\n",
       "      <td>-0.695199</td>\n",
       "      <td>-0.487459</td>\n",
       "      <td>-0.195876</td>\n",
       "      <td>0.264223</td>\n",
       "      <td>0.553861</td>\n",
       "      <td>-0.223670</td>\n",
       "      <td>-0.166962</td>\n",
       "      <td>0.084236</td>\n",
       "      <td>-0.640810</td>\n",
       "      <td>-0.125797</td>\n",
       "      <td>-0.070719</td>\n",
       "    </tr>\n",
       "    <tr>\n",
       "      <th>2</th>\n",
       "      <td>-2.074598</td>\n",
       "      <td>0.599639</td>\n",
       "      <td>0.167122</td>\n",
       "      <td>-0.739204</td>\n",
       "      <td>-0.934534</td>\n",
       "      <td>0.448095</td>\n",
       "      <td>0.484560</td>\n",
       "      <td>0.105166</td>\n",
       "      <td>0.069775</td>\n",
       "      <td>-0.180380</td>\n",
       "      <td>-0.487557</td>\n",
       "      <td>0.133327</td>\n",
       "      <td>-0.014022</td>\n",
       "    </tr>\n",
       "    <tr>\n",
       "      <th>3</th>\n",
       "      <td>-2.611504</td>\n",
       "      <td>-0.006871</td>\n",
       "      <td>-0.100284</td>\n",
       "      <td>-0.343721</td>\n",
       "      <td>-1.104956</td>\n",
       "      <td>0.664649</td>\n",
       "      <td>0.622641</td>\n",
       "      <td>0.255941</td>\n",
       "      <td>-0.342246</td>\n",
       "      <td>0.045901</td>\n",
       "      <td>-0.360209</td>\n",
       "      <td>0.508678</td>\n",
       "      <td>0.007847</td>\n",
       "    </tr>\n",
       "    <tr>\n",
       "      <th>4</th>\n",
       "      <td>-2.458185</td>\n",
       "      <td>0.097712</td>\n",
       "      <td>-0.075348</td>\n",
       "      <td>-0.427907</td>\n",
       "      <td>-1.065924</td>\n",
       "      <td>0.617047</td>\n",
       "      <td>0.705086</td>\n",
       "      <td>-0.134524</td>\n",
       "      <td>-0.417668</td>\n",
       "      <td>-0.140880</td>\n",
       "      <td>-0.395150</td>\n",
       "      <td>0.497732</td>\n",
       "      <td>0.014274</td>\n",
       "    </tr>\n",
       "  </tbody>\n",
       "</table>\n",
       "</div>"
      ],
      "text/plain": [
       "         0         1         2         3         4         5         6   \\\n",
       "0 -2.098297  0.773113  0.342943 -0.891774  0.423070 -0.315338  0.318641   \n",
       "1 -1.457252  0.591985 -0.695199 -0.487459 -0.195876  0.264223  0.553861   \n",
       "2 -2.074598  0.599639  0.167122 -0.739204 -0.934534  0.448095  0.484560   \n",
       "3 -2.611504 -0.006871 -0.100284 -0.343721 -1.104956  0.664649  0.622641   \n",
       "4 -2.458185  0.097712 -0.075348 -0.427907 -1.065924  0.617047  0.705086   \n",
       "\n",
       "         7         8         9         10        11        12  \n",
       "0  0.295832 -0.424937  0.640206 -0.033000  0.019440  0.365975  \n",
       "1 -0.223670 -0.166962  0.084236 -0.640810 -0.125797 -0.070719  \n",
       "2  0.105166  0.069775 -0.180380 -0.487557  0.133327 -0.014022  \n",
       "3  0.255941 -0.342246  0.045901 -0.360209  0.508678  0.007847  \n",
       "4 -0.134524 -0.417668 -0.140880 -0.395150  0.497732  0.014274  "
      ]
     },
     "execution_count": 19,
     "metadata": {},
     "output_type": "execute_result"
    }
   ],
   "source": [
    "values = pd.DataFrame(covariance_matrix.fit_transform(dfWFeatures_std))\n",
    "values.head()"
   ]
  },
  {
   "cell_type": "code",
   "execution_count": null,
   "metadata": {},
   "outputs": [],
   "source": []
  }
 ],
 "metadata": {
  "kernelspec": {
   "display_name": "Python 3",
   "language": "python",
   "name": "python3"
  },
  "language_info": {
   "codemirror_mode": {
    "name": "ipython",
    "version": 3
   },
   "file_extension": ".py",
   "mimetype": "text/x-python",
   "name": "python",
   "nbconvert_exporter": "python",
   "pygments_lexer": "ipython3",
   "version": "3.7.3"
  }
 },
 "nbformat": 4,
 "nbformat_minor": 4
}
