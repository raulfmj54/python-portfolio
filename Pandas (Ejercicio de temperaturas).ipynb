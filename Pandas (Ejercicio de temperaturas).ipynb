{
 "cells": [
  {
   "cell_type": "code",
   "execution_count": 1,
   "metadata": {},
   "outputs": [
    {
     "data": {
      "text/html": [
       "<div>\n",
       "<style scoped>\n",
       "    .dataframe tbody tr th:only-of-type {\n",
       "        vertical-align: middle;\n",
       "    }\n",
       "\n",
       "    .dataframe tbody tr th {\n",
       "        vertical-align: top;\n",
       "    }\n",
       "\n",
       "    .dataframe thead th {\n",
       "        text-align: right;\n",
       "    }\n",
       "</style>\n",
       "<table border=\"1\" class=\"dataframe\">\n",
       "  <thead>\n",
       "    <tr style=\"text-align: right;\">\n",
       "      <th></th>\n",
       "      <th>Temperatura</th>\n",
       "      <th>Escala</th>\n",
       "    </tr>\n",
       "  </thead>\n",
       "  <tbody>\n",
       "    <tr>\n",
       "      <th>0</th>\n",
       "      <td>7</td>\n",
       "      <td>C</td>\n",
       "    </tr>\n",
       "    <tr>\n",
       "      <th>1</th>\n",
       "      <td>100</td>\n",
       "      <td>F</td>\n",
       "    </tr>\n",
       "    <tr>\n",
       "      <th>2</th>\n",
       "      <td>-3</td>\n",
       "      <td>C</td>\n",
       "    </tr>\n",
       "    <tr>\n",
       "      <th>3</th>\n",
       "      <td>-19</td>\n",
       "      <td>F</td>\n",
       "    </tr>\n",
       "    <tr>\n",
       "      <th>4</th>\n",
       "      <td>9</td>\n",
       "      <td>C</td>\n",
       "    </tr>\n",
       "  </tbody>\n",
       "</table>\n",
       "</div>"
      ],
      "text/plain": [
       "   Temperatura Escala\n",
       "0            7      C\n",
       "1          100      F\n",
       "2           -3      C\n",
       "3          -19      F\n",
       "4            9      C"
      ]
     },
     "execution_count": 1,
     "metadata": {},
     "output_type": "execute_result"
    }
   ],
   "source": [
    "import numpy as np\n",
    "import pandas as pd\n",
    "\n",
    "# Importar el archivo\n",
    "csvTemperatura = 'Temperatura.csv'\n",
    "dfTemperatura = pd.read_csv(csvTemperatura)\n",
    "dfTemperatura.head()"
   ]
  },
  {
   "cell_type": "code",
   "execution_count": 2,
   "metadata": {},
   "outputs": [
    {
     "data": {
      "text/plain": [
       "(19, 2)"
      ]
     },
     "execution_count": 2,
     "metadata": {},
     "output_type": "execute_result"
    }
   ],
   "source": [
    "dfTemperatura.shape #(fila, columna)"
   ]
  },
  {
   "cell_type": "code",
   "execution_count": 3,
   "metadata": {},
   "outputs": [
    {
     "data": {
      "text/plain": [
       "Index(['Temperatura', 'Escala'], dtype='object')"
      ]
     },
     "execution_count": 3,
     "metadata": {},
     "output_type": "execute_result"
    }
   ],
   "source": [
    "dfTemperatura.columns"
   ]
  },
  {
   "cell_type": "code",
   "execution_count": 4,
   "metadata": {},
   "outputs": [
    {
     "data": {
      "text/plain": [
       "array(['C', 'F'], dtype=object)"
      ]
     },
     "execution_count": 4,
     "metadata": {},
     "output_type": "execute_result"
    }
   ],
   "source": [
    "dfTemperatura.Escala.unique()"
   ]
  },
  {
   "cell_type": "code",
   "execution_count": 7,
   "metadata": {},
   "outputs": [
    {
     "data": {
      "text/html": [
       "<div>\n",
       "<style scoped>\n",
       "    .dataframe tbody tr th:only-of-type {\n",
       "        vertical-align: middle;\n",
       "    }\n",
       "\n",
       "    .dataframe tbody tr th {\n",
       "        vertical-align: top;\n",
       "    }\n",
       "\n",
       "    .dataframe thead th {\n",
       "        text-align: right;\n",
       "    }\n",
       "</style>\n",
       "<table border=\"1\" class=\"dataframe\">\n",
       "  <thead>\n",
       "    <tr style=\"text-align: right;\">\n",
       "      <th></th>\n",
       "      <th>Temperatura</th>\n",
       "      <th>Escala</th>\n",
       "      <th>Nueva_Temperatura</th>\n",
       "      <th>Nueva_Escala</th>\n",
       "    </tr>\n",
       "  </thead>\n",
       "  <tbody>\n",
       "    <tr>\n",
       "      <th>0</th>\n",
       "      <td>7</td>\n",
       "      <td>C</td>\n",
       "      <td>44.600000</td>\n",
       "      <td>F</td>\n",
       "    </tr>\n",
       "    <tr>\n",
       "      <th>1</th>\n",
       "      <td>100</td>\n",
       "      <td>F</td>\n",
       "      <td>37.777778</td>\n",
       "      <td>C</td>\n",
       "    </tr>\n",
       "    <tr>\n",
       "      <th>2</th>\n",
       "      <td>-3</td>\n",
       "      <td>C</td>\n",
       "      <td>26.600000</td>\n",
       "      <td>F</td>\n",
       "    </tr>\n",
       "    <tr>\n",
       "      <th>3</th>\n",
       "      <td>-19</td>\n",
       "      <td>F</td>\n",
       "      <td>-28.333333</td>\n",
       "      <td>C</td>\n",
       "    </tr>\n",
       "    <tr>\n",
       "      <th>4</th>\n",
       "      <td>9</td>\n",
       "      <td>C</td>\n",
       "      <td>48.200000</td>\n",
       "      <td>F</td>\n",
       "    </tr>\n",
       "  </tbody>\n",
       "</table>\n",
       "</div>"
      ],
      "text/plain": [
       "   Temperatura Escala  Nueva_Temperatura Nueva_Escala\n",
       "0            7      C          44.600000            F\n",
       "1          100      F          37.777778            C\n",
       "2           -3      C          26.600000            F\n",
       "3          -19      F         -28.333333            C\n",
       "4            9      C          48.200000            F"
      ]
     },
     "execution_count": 7,
     "metadata": {},
     "output_type": "execute_result"
    }
   ],
   "source": [
    "dfTemperatura['Nueva_Temperatura'] = np.where(dfTemperatura['Escala'] == 'C', \n",
    "                                              (9 / 5)*dfTemperatura['Temperatura'] + 32, \n",
    "                                              ((dfTemperatura['Temperatura'] - 32 ) * (5 / 9)) )\n",
    "dfTemperatura['Nueva_Escala'] = np.where(dfTemperatura['Escala'] == 'C', 'F', 'C')\n",
    "dfTemperatura.head()\n"
   ]
  },
  {
   "cell_type": "code",
   "execution_count": 6,
   "metadata": {},
   "outputs": [],
   "source": [
    "dfTemperatura.to_csv('conv_temperatura.csv')"
   ]
  },
  {
   "cell_type": "code",
   "execution_count": 9,
   "metadata": {},
   "outputs": [
    {
     "data": {
      "text/html": [
       "<div>\n",
       "<style scoped>\n",
       "    .dataframe tbody tr th:only-of-type {\n",
       "        vertical-align: middle;\n",
       "    }\n",
       "\n",
       "    .dataframe tbody tr th {\n",
       "        vertical-align: top;\n",
       "    }\n",
       "\n",
       "    .dataframe thead th {\n",
       "        text-align: right;\n",
       "    }\n",
       "</style>\n",
       "<table border=\"1\" class=\"dataframe\">\n",
       "  <thead>\n",
       "    <tr style=\"text-align: right;\">\n",
       "      <th></th>\n",
       "      <th>Temperatura</th>\n",
       "      <th>Escala</th>\n",
       "      <th>Nueva_Temperatura</th>\n",
       "      <th>Nueva_Escala</th>\n",
       "    </tr>\n",
       "  </thead>\n",
       "  <tbody>\n",
       "    <tr>\n",
       "      <th>0</th>\n",
       "      <td>7</td>\n",
       "      <td>C</td>\n",
       "      <td>44.600000</td>\n",
       "      <td>F</td>\n",
       "    </tr>\n",
       "    <tr>\n",
       "      <th>1</th>\n",
       "      <td>100</td>\n",
       "      <td>F</td>\n",
       "      <td>37.777778</td>\n",
       "      <td>C</td>\n",
       "    </tr>\n",
       "    <tr>\n",
       "      <th>2</th>\n",
       "      <td>-3</td>\n",
       "      <td>C</td>\n",
       "      <td>26.600000</td>\n",
       "      <td>F</td>\n",
       "    </tr>\n",
       "    <tr>\n",
       "      <th>3</th>\n",
       "      <td>-19</td>\n",
       "      <td>F</td>\n",
       "      <td>-28.333333</td>\n",
       "      <td>C</td>\n",
       "    </tr>\n",
       "    <tr>\n",
       "      <th>4</th>\n",
       "      <td>9</td>\n",
       "      <td>C</td>\n",
       "      <td>48.200000</td>\n",
       "      <td>F</td>\n",
       "    </tr>\n",
       "  </tbody>\n",
       "</table>\n",
       "</div>"
      ],
      "text/plain": [
       "   Temperatura Escala  Nueva_Temperatura Nueva_Escala\n",
       "0            7      C          44.600000            F\n",
       "1          100      F          37.777778            C\n",
       "2           -3      C          26.600000            F\n",
       "3          -19      F         -28.333333            C\n",
       "4            9      C          48.200000            F"
      ]
     },
     "execution_count": 9,
     "metadata": {},
     "output_type": "execute_result"
    }
   ],
   "source": [
    "# Importar el archivo\n",
    "csvTemperatura = 'Temperatura.csv'\n",
    "dfTemperatura = pd.read_csv(csvTemperatura)\n",
    "dfTemperatura.head()\n",
    "dfTemperatura.loc[dfTemperatura['Escala'] == 'C',\n",
    "                 'Nueva_Temperatura'] = (9 / 5)*dfTemperatura['Temperatura'] + 32\n",
    "dfTemperatura.loc[dfTemperatura['Escala'] == 'F',\n",
    "                 'Nueva_Temperatura'] = ((dfTemperatura['Temperatura'] - 32 ) * (5 / 9)) \n",
    "dfTemperatura['Nueva_Escala'] = np.where(dfTemperatura['Escala'] == 'C', 'F', 'C')\n",
    "dfTemperatura.to_csv('conv_temperatura2.csv')\n",
    "dfTemperatura.head()"
   ]
  },
  {
   "cell_type": "markdown",
   "metadata": {},
   "source": [
    "## Pandas y Excel"
   ]
  },
  {
   "cell_type": "code",
   "execution_count": 11,
   "metadata": {},
   "outputs": [
    {
     "data": {
      "text/html": [
       "<div>\n",
       "<style scoped>\n",
       "    .dataframe tbody tr th:only-of-type {\n",
       "        vertical-align: middle;\n",
       "    }\n",
       "\n",
       "    .dataframe tbody tr th {\n",
       "        vertical-align: top;\n",
       "    }\n",
       "\n",
       "    .dataframe thead th {\n",
       "        text-align: right;\n",
       "    }\n",
       "</style>\n",
       "<table border=\"1\" class=\"dataframe\">\n",
       "  <thead>\n",
       "    <tr style=\"text-align: right;\">\n",
       "      <th></th>\n",
       "      <th>Title</th>\n",
       "      <th>Year</th>\n",
       "      <th>Genres</th>\n",
       "      <th>Language</th>\n",
       "      <th>Country</th>\n",
       "      <th>Content Rating</th>\n",
       "      <th>Duration</th>\n",
       "      <th>Aspect Ratio</th>\n",
       "      <th>Budget</th>\n",
       "      <th>Gross Earnings</th>\n",
       "      <th>...</th>\n",
       "      <th>Facebook Likes - Actor 1</th>\n",
       "      <th>Facebook Likes - Actor 2</th>\n",
       "      <th>Facebook Likes - Actor 3</th>\n",
       "      <th>Facebook Likes - cast Total</th>\n",
       "      <th>Facebook likes - Movie</th>\n",
       "      <th>Facenumber in posters</th>\n",
       "      <th>User Votes</th>\n",
       "      <th>Reviews by Users</th>\n",
       "      <th>Reviews by Crtiics</th>\n",
       "      <th>IMDB Score</th>\n",
       "    </tr>\n",
       "  </thead>\n",
       "  <tbody>\n",
       "    <tr>\n",
       "      <th>0</th>\n",
       "      <td>Intolerance: Love's Struggle Throughout the Ages</td>\n",
       "      <td>1916</td>\n",
       "      <td>Drama|History|War</td>\n",
       "      <td>NaN</td>\n",
       "      <td>USA</td>\n",
       "      <td>Not Rated</td>\n",
       "      <td>123</td>\n",
       "      <td>1.33</td>\n",
       "      <td>385907.0</td>\n",
       "      <td>NaN</td>\n",
       "      <td>...</td>\n",
       "      <td>436</td>\n",
       "      <td>22</td>\n",
       "      <td>9.0</td>\n",
       "      <td>481</td>\n",
       "      <td>691</td>\n",
       "      <td>1</td>\n",
       "      <td>10718</td>\n",
       "      <td>88</td>\n",
       "      <td>69.0</td>\n",
       "      <td>8.0</td>\n",
       "    </tr>\n",
       "    <tr>\n",
       "      <th>1</th>\n",
       "      <td>Over the Hill to the Poorhouse</td>\n",
       "      <td>1920</td>\n",
       "      <td>Crime|Drama</td>\n",
       "      <td>NaN</td>\n",
       "      <td>USA</td>\n",
       "      <td>NaN</td>\n",
       "      <td>110</td>\n",
       "      <td>1.33</td>\n",
       "      <td>100000.0</td>\n",
       "      <td>3000000.0</td>\n",
       "      <td>...</td>\n",
       "      <td>2</td>\n",
       "      <td>2</td>\n",
       "      <td>0.0</td>\n",
       "      <td>4</td>\n",
       "      <td>0</td>\n",
       "      <td>1</td>\n",
       "      <td>5</td>\n",
       "      <td>1</td>\n",
       "      <td>1.0</td>\n",
       "      <td>4.8</td>\n",
       "    </tr>\n",
       "    <tr>\n",
       "      <th>2</th>\n",
       "      <td>The Big Parade</td>\n",
       "      <td>1925</td>\n",
       "      <td>Drama|Romance|War</td>\n",
       "      <td>NaN</td>\n",
       "      <td>USA</td>\n",
       "      <td>Not Rated</td>\n",
       "      <td>151</td>\n",
       "      <td>1.33</td>\n",
       "      <td>245000.0</td>\n",
       "      <td>NaN</td>\n",
       "      <td>...</td>\n",
       "      <td>81</td>\n",
       "      <td>12</td>\n",
       "      <td>6.0</td>\n",
       "      <td>108</td>\n",
       "      <td>226</td>\n",
       "      <td>0</td>\n",
       "      <td>4849</td>\n",
       "      <td>45</td>\n",
       "      <td>48.0</td>\n",
       "      <td>8.3</td>\n",
       "    </tr>\n",
       "    <tr>\n",
       "      <th>3</th>\n",
       "      <td>Metropolis</td>\n",
       "      <td>1927</td>\n",
       "      <td>Drama|Sci-Fi</td>\n",
       "      <td>German</td>\n",
       "      <td>Germany</td>\n",
       "      <td>Not Rated</td>\n",
       "      <td>145</td>\n",
       "      <td>1.33</td>\n",
       "      <td>6000000.0</td>\n",
       "      <td>26435.0</td>\n",
       "      <td>...</td>\n",
       "      <td>136</td>\n",
       "      <td>23</td>\n",
       "      <td>18.0</td>\n",
       "      <td>203</td>\n",
       "      <td>12000</td>\n",
       "      <td>1</td>\n",
       "      <td>111841</td>\n",
       "      <td>413</td>\n",
       "      <td>260.0</td>\n",
       "      <td>8.3</td>\n",
       "    </tr>\n",
       "    <tr>\n",
       "      <th>4</th>\n",
       "      <td>Pandora's Box</td>\n",
       "      <td>1929</td>\n",
       "      <td>Crime|Drama|Romance</td>\n",
       "      <td>German</td>\n",
       "      <td>Germany</td>\n",
       "      <td>Not Rated</td>\n",
       "      <td>110</td>\n",
       "      <td>1.33</td>\n",
       "      <td>NaN</td>\n",
       "      <td>9950.0</td>\n",
       "      <td>...</td>\n",
       "      <td>426</td>\n",
       "      <td>20</td>\n",
       "      <td>3.0</td>\n",
       "      <td>455</td>\n",
       "      <td>926</td>\n",
       "      <td>1</td>\n",
       "      <td>7431</td>\n",
       "      <td>84</td>\n",
       "      <td>71.0</td>\n",
       "      <td>8.0</td>\n",
       "    </tr>\n",
       "  </tbody>\n",
       "</table>\n",
       "<p>5 rows × 25 columns</p>\n",
       "</div>"
      ],
      "text/plain": [
       "                                               Title  Year  \\\n",
       "0  Intolerance: Love's Struggle Throughout the Ages   1916   \n",
       "1                    Over the Hill to the Poorhouse   1920   \n",
       "2                                    The Big Parade   1925   \n",
       "3                                        Metropolis   1927   \n",
       "4                                     Pandora's Box   1929   \n",
       "\n",
       "                Genres Language  Country Content Rating  Duration  \\\n",
       "0    Drama|History|War      NaN      USA      Not Rated       123   \n",
       "1          Crime|Drama      NaN      USA            NaN       110   \n",
       "2    Drama|Romance|War      NaN      USA      Not Rated       151   \n",
       "3         Drama|Sci-Fi   German  Germany      Not Rated       145   \n",
       "4  Crime|Drama|Romance   German  Germany      Not Rated       110   \n",
       "\n",
       "   Aspect Ratio     Budget  Gross Earnings  ... Facebook Likes - Actor 1  \\\n",
       "0          1.33   385907.0             NaN  ...                      436   \n",
       "1          1.33   100000.0       3000000.0  ...                        2   \n",
       "2          1.33   245000.0             NaN  ...                       81   \n",
       "3          1.33  6000000.0         26435.0  ...                      136   \n",
       "4          1.33        NaN          9950.0  ...                      426   \n",
       "\n",
       "  Facebook Likes - Actor 2 Facebook Likes - Actor 3  \\\n",
       "0                       22                      9.0   \n",
       "1                        2                      0.0   \n",
       "2                       12                      6.0   \n",
       "3                       23                     18.0   \n",
       "4                       20                      3.0   \n",
       "\n",
       "  Facebook Likes - cast Total  Facebook likes - Movie  Facenumber in posters  \\\n",
       "0                         481                     691                      1   \n",
       "1                           4                       0                      1   \n",
       "2                         108                     226                      0   \n",
       "3                         203                   12000                      1   \n",
       "4                         455                     926                      1   \n",
       "\n",
       "   User Votes  Reviews by Users  Reviews by Crtiics  IMDB Score  \n",
       "0       10718                88                69.0         8.0  \n",
       "1           5                 1                 1.0         4.8  \n",
       "2        4849                45                48.0         8.3  \n",
       "3      111841               413               260.0         8.3  \n",
       "4        7431                84                71.0         8.0  \n",
       "\n",
       "[5 rows x 25 columns]"
      ]
     },
     "execution_count": 11,
     "metadata": {},
     "output_type": "execute_result"
    }
   ],
   "source": [
    "import numpy as np\n",
    "import pandas as pd\n",
    "\n",
    "# Importar el archivo\n",
    "xlsMovies = 'movies.xls'\n",
    "dfMovies = pd.read_excel(xlsMovies)\n",
    "dfMovies.head()"
   ]
  },
  {
   "cell_type": "markdown",
   "metadata": {},
   "source": [
    "## Importar una hoja específica"
   ]
  },
  {
   "cell_type": "code",
   "execution_count": 12,
   "metadata": {},
   "outputs": [
    {
     "data": {
      "text/html": [
       "<div>\n",
       "<style scoped>\n",
       "    .dataframe tbody tr th:only-of-type {\n",
       "        vertical-align: middle;\n",
       "    }\n",
       "\n",
       "    .dataframe tbody tr th {\n",
       "        vertical-align: top;\n",
       "    }\n",
       "\n",
       "    .dataframe thead th {\n",
       "        text-align: right;\n",
       "    }\n",
       "</style>\n",
       "<table border=\"1\" class=\"dataframe\">\n",
       "  <thead>\n",
       "    <tr style=\"text-align: right;\">\n",
       "      <th></th>\n",
       "      <th>Year</th>\n",
       "      <th>Genres</th>\n",
       "      <th>Language</th>\n",
       "      <th>Country</th>\n",
       "      <th>Content Rating</th>\n",
       "      <th>Duration</th>\n",
       "      <th>Aspect Ratio</th>\n",
       "      <th>Budget</th>\n",
       "      <th>Gross Earnings</th>\n",
       "      <th>Director</th>\n",
       "      <th>...</th>\n",
       "      <th>Facebook Likes - Actor 1</th>\n",
       "      <th>Facebook Likes - Actor 2</th>\n",
       "      <th>Facebook Likes - Actor 3</th>\n",
       "      <th>Facebook Likes - cast Total</th>\n",
       "      <th>Facebook likes - Movie</th>\n",
       "      <th>Facenumber in posters</th>\n",
       "      <th>User Votes</th>\n",
       "      <th>Reviews by Users</th>\n",
       "      <th>Reviews by Crtiics</th>\n",
       "      <th>IMDB Score</th>\n",
       "    </tr>\n",
       "    <tr>\n",
       "      <th>Title</th>\n",
       "      <th></th>\n",
       "      <th></th>\n",
       "      <th></th>\n",
       "      <th></th>\n",
       "      <th></th>\n",
       "      <th></th>\n",
       "      <th></th>\n",
       "      <th></th>\n",
       "      <th></th>\n",
       "      <th></th>\n",
       "      <th></th>\n",
       "      <th></th>\n",
       "      <th></th>\n",
       "      <th></th>\n",
       "      <th></th>\n",
       "      <th></th>\n",
       "      <th></th>\n",
       "      <th></th>\n",
       "      <th></th>\n",
       "      <th></th>\n",
       "      <th></th>\n",
       "    </tr>\n",
       "  </thead>\n",
       "  <tbody>\n",
       "    <tr>\n",
       "      <th>127 Hours</th>\n",
       "      <td>2010.0</td>\n",
       "      <td>Adventure|Biography|Drama|Thriller</td>\n",
       "      <td>English</td>\n",
       "      <td>USA</td>\n",
       "      <td>R</td>\n",
       "      <td>94.0</td>\n",
       "      <td>1.85</td>\n",
       "      <td>18000000.0</td>\n",
       "      <td>18329466.0</td>\n",
       "      <td>Danny Boyle</td>\n",
       "      <td>...</td>\n",
       "      <td>11000.0</td>\n",
       "      <td>642.0</td>\n",
       "      <td>223.0</td>\n",
       "      <td>11984</td>\n",
       "      <td>63000</td>\n",
       "      <td>0.0</td>\n",
       "      <td>279179</td>\n",
       "      <td>440.0</td>\n",
       "      <td>450.0</td>\n",
       "      <td>7.6</td>\n",
       "    </tr>\n",
       "    <tr>\n",
       "      <th>3 Backyards</th>\n",
       "      <td>2010.0</td>\n",
       "      <td>Drama</td>\n",
       "      <td>English</td>\n",
       "      <td>USA</td>\n",
       "      <td>R</td>\n",
       "      <td>88.0</td>\n",
       "      <td>NaN</td>\n",
       "      <td>300000.0</td>\n",
       "      <td>NaN</td>\n",
       "      <td>Eric Mendelsohn</td>\n",
       "      <td>...</td>\n",
       "      <td>795.0</td>\n",
       "      <td>659.0</td>\n",
       "      <td>301.0</td>\n",
       "      <td>1884</td>\n",
       "      <td>92</td>\n",
       "      <td>0.0</td>\n",
       "      <td>554</td>\n",
       "      <td>23.0</td>\n",
       "      <td>20.0</td>\n",
       "      <td>5.2</td>\n",
       "    </tr>\n",
       "    <tr>\n",
       "      <th>3</th>\n",
       "      <td>2010.0</td>\n",
       "      <td>Comedy|Drama|Romance</td>\n",
       "      <td>German</td>\n",
       "      <td>Germany</td>\n",
       "      <td>Unrated</td>\n",
       "      <td>119.0</td>\n",
       "      <td>2.35</td>\n",
       "      <td>NaN</td>\n",
       "      <td>59774.0</td>\n",
       "      <td>Tom Tykwer</td>\n",
       "      <td>...</td>\n",
       "      <td>24.0</td>\n",
       "      <td>20.0</td>\n",
       "      <td>9.0</td>\n",
       "      <td>69</td>\n",
       "      <td>2000</td>\n",
       "      <td>0.0</td>\n",
       "      <td>4212</td>\n",
       "      <td>18.0</td>\n",
       "      <td>76.0</td>\n",
       "      <td>6.8</td>\n",
       "    </tr>\n",
       "    <tr>\n",
       "      <th>8: The Mormon Proposition</th>\n",
       "      <td>2010.0</td>\n",
       "      <td>Documentary</td>\n",
       "      <td>English</td>\n",
       "      <td>USA</td>\n",
       "      <td>R</td>\n",
       "      <td>80.0</td>\n",
       "      <td>1.78</td>\n",
       "      <td>2500000.0</td>\n",
       "      <td>99851.0</td>\n",
       "      <td>Reed Cowan</td>\n",
       "      <td>...</td>\n",
       "      <td>191.0</td>\n",
       "      <td>12.0</td>\n",
       "      <td>5.0</td>\n",
       "      <td>210</td>\n",
       "      <td>0</td>\n",
       "      <td>0.0</td>\n",
       "      <td>1138</td>\n",
       "      <td>30.0</td>\n",
       "      <td>28.0</td>\n",
       "      <td>7.1</td>\n",
       "    </tr>\n",
       "    <tr>\n",
       "      <th>A Turtle's Tale: Sammy's Adventures</th>\n",
       "      <td>2010.0</td>\n",
       "      <td>Adventure|Animation|Family</td>\n",
       "      <td>English</td>\n",
       "      <td>France</td>\n",
       "      <td>PG</td>\n",
       "      <td>88.0</td>\n",
       "      <td>2.35</td>\n",
       "      <td>NaN</td>\n",
       "      <td>NaN</td>\n",
       "      <td>Ben Stassen</td>\n",
       "      <td>...</td>\n",
       "      <td>783.0</td>\n",
       "      <td>749.0</td>\n",
       "      <td>602.0</td>\n",
       "      <td>3874</td>\n",
       "      <td>0</td>\n",
       "      <td>2.0</td>\n",
       "      <td>5385</td>\n",
       "      <td>22.0</td>\n",
       "      <td>56.0</td>\n",
       "      <td>6.1</td>\n",
       "    </tr>\n",
       "  </tbody>\n",
       "</table>\n",
       "<p>5 rows × 24 columns</p>\n",
       "</div>"
      ],
      "text/plain": [
       "                                        Year  \\\n",
       "Title                                          \n",
       "127 Hours                             2010.0   \n",
       "3 Backyards                           2010.0   \n",
       "3                                     2010.0   \n",
       "8: The Mormon Proposition             2010.0   \n",
       "A Turtle's Tale: Sammy's Adventures   2010.0   \n",
       "\n",
       "                                                                  Genres  \\\n",
       "Title                                                                      \n",
       "127 Hours                             Adventure|Biography|Drama|Thriller   \n",
       "3 Backyards                                                        Drama   \n",
       "3                                                   Comedy|Drama|Romance   \n",
       "8: The Mormon Proposition                                    Documentary   \n",
       "A Turtle's Tale: Sammy's Adventures           Adventure|Animation|Family   \n",
       "\n",
       "                                     Language  Country Content Rating  \\\n",
       "Title                                                                   \n",
       "127 Hours                             English      USA              R   \n",
       "3 Backyards                           English      USA              R   \n",
       "3                                      German  Germany        Unrated   \n",
       "8: The Mormon Proposition             English      USA              R   \n",
       "A Turtle's Tale: Sammy's Adventures   English   France             PG   \n",
       "\n",
       "                                      Duration  Aspect Ratio      Budget  \\\n",
       "Title                                                                      \n",
       "127 Hours                                 94.0          1.85  18000000.0   \n",
       "3 Backyards                               88.0           NaN    300000.0   \n",
       "3                                        119.0          2.35         NaN   \n",
       "8: The Mormon Proposition                 80.0          1.78   2500000.0   \n",
       "A Turtle's Tale: Sammy's Adventures       88.0          2.35         NaN   \n",
       "\n",
       "                                      Gross Earnings         Director  ...  \\\n",
       "Title                                                                  ...   \n",
       "127 Hours                                 18329466.0      Danny Boyle  ...   \n",
       "3 Backyards                                      NaN  Eric Mendelsohn  ...   \n",
       "3                                            59774.0       Tom Tykwer  ...   \n",
       "8: The Mormon Proposition                    99851.0       Reed Cowan  ...   \n",
       "A Turtle's Tale: Sammy's Adventures              NaN      Ben Stassen  ...   \n",
       "\n",
       "                                     Facebook Likes - Actor 1  \\\n",
       "Title                                                           \n",
       "127 Hours                                             11000.0   \n",
       "3 Backyards                                             795.0   \n",
       "3                                                        24.0   \n",
       "8: The Mormon Proposition                               191.0   \n",
       "A Turtle's Tale: Sammy's Adventures                     783.0   \n",
       "\n",
       "                                     Facebook Likes - Actor 2  \\\n",
       "Title                                                           \n",
       "127 Hours                                               642.0   \n",
       "3 Backyards                                             659.0   \n",
       "3                                                        20.0   \n",
       "8: The Mormon Proposition                                12.0   \n",
       "A Turtle's Tale: Sammy's Adventures                     749.0   \n",
       "\n",
       "                                     Facebook Likes - Actor 3  \\\n",
       "Title                                                           \n",
       "127 Hours                                               223.0   \n",
       "3 Backyards                                             301.0   \n",
       "3                                                         9.0   \n",
       "8: The Mormon Proposition                                 5.0   \n",
       "A Turtle's Tale: Sammy's Adventures                     602.0   \n",
       "\n",
       "                                      Facebook Likes - cast Total  \\\n",
       "Title                                                               \n",
       "127 Hours                                                   11984   \n",
       "3 Backyards                                                  1884   \n",
       "3                                                              69   \n",
       "8: The Mormon Proposition                                     210   \n",
       "A Turtle's Tale: Sammy's Adventures                          3874   \n",
       "\n",
       "                                      Facebook likes - Movie  \\\n",
       "Title                                                          \n",
       "127 Hours                                              63000   \n",
       "3 Backyards                                               92   \n",
       "3                                                       2000   \n",
       "8: The Mormon Proposition                                  0   \n",
       "A Turtle's Tale: Sammy's Adventures                        0   \n",
       "\n",
       "                                      Facenumber in posters  User Votes  \\\n",
       "Title                                                                     \n",
       "127 Hours                                               0.0      279179   \n",
       "3 Backyards                                             0.0         554   \n",
       "3                                                       0.0        4212   \n",
       "8: The Mormon Proposition                               0.0        1138   \n",
       "A Turtle's Tale: Sammy's Adventures                     2.0        5385   \n",
       "\n",
       "                                      Reviews by Users  Reviews by Crtiics  \\\n",
       "Title                                                                        \n",
       "127 Hours                                        440.0               450.0   \n",
       "3 Backyards                                       23.0                20.0   \n",
       "3                                                 18.0                76.0   \n",
       "8: The Mormon Proposition                         30.0                28.0   \n",
       "A Turtle's Tale: Sammy's Adventures               22.0                56.0   \n",
       "\n",
       "                                      IMDB Score  \n",
       "Title                                             \n",
       "127 Hours                                    7.6  \n",
       "3 Backyards                                  5.2  \n",
       "3                                            6.8  \n",
       "8: The Mormon Proposition                    7.1  \n",
       "A Turtle's Tale: Sammy's Adventures          6.1  \n",
       "\n",
       "[5 rows x 24 columns]"
      ]
     },
     "execution_count": 12,
     "metadata": {},
     "output_type": "execute_result"
    }
   ],
   "source": [
    "dfMovies_hoja1 = pd.read_excel(xlsMovies, sheet_name = 0, index_col = 0)\n",
    "dfMovies_hoja2 = pd.read_excel(xlsMovies, sheet_name = 1, index_col = 0)\n",
    "dfMovies_hoja3 = pd.read_excel(xlsMovies, sheet_name = 2, index_col = 0)\n",
    "dfMovies_hoja3.head()"
   ]
  },
  {
   "cell_type": "markdown",
   "metadata": {},
   "source": [
    "### Unir las hojas"
   ]
  },
  {
   "cell_type": "code",
   "execution_count": 15,
   "metadata": {},
   "outputs": [
    {
     "data": {
      "text/plain": [
       "(5042, 24)"
      ]
     },
     "execution_count": 15,
     "metadata": {},
     "output_type": "execute_result"
    }
   ],
   "source": [
    "dfMovies_hojas = pd. concat([dfMovies_hoja1, dfMovies_hoja2, dfMovies_hoja3])\n",
    "dfMovies_hojas.shape"
   ]
  },
  {
   "cell_type": "markdown",
   "metadata": {},
   "source": [
    "## Importar a un DataFrame todas las hojas de un archivo de Excel"
   ]
  },
  {
   "cell_type": "code",
   "execution_count": 1,
   "metadata": {},
   "outputs": [
    {
     "data": {
      "text/html": [
       "<div>\n",
       "<style scoped>\n",
       "    .dataframe tbody tr th:only-of-type {\n",
       "        vertical-align: middle;\n",
       "    }\n",
       "\n",
       "    .dataframe tbody tr th {\n",
       "        vertical-align: top;\n",
       "    }\n",
       "\n",
       "    .dataframe thead th {\n",
       "        text-align: right;\n",
       "    }\n",
       "</style>\n",
       "<table border=\"1\" class=\"dataframe\">\n",
       "  <thead>\n",
       "    <tr style=\"text-align: right;\">\n",
       "      <th></th>\n",
       "      <th>Title</th>\n",
       "      <th>Year</th>\n",
       "      <th>Genres</th>\n",
       "      <th>Language</th>\n",
       "      <th>Country</th>\n",
       "      <th>Content Rating</th>\n",
       "      <th>Duration</th>\n",
       "      <th>Aspect Ratio</th>\n",
       "      <th>Budget</th>\n",
       "      <th>Gross Earnings</th>\n",
       "      <th>...</th>\n",
       "      <th>Facebook Likes - Actor 1</th>\n",
       "      <th>Facebook Likes - Actor 2</th>\n",
       "      <th>Facebook Likes - Actor 3</th>\n",
       "      <th>Facebook Likes - cast Total</th>\n",
       "      <th>Facebook likes - Movie</th>\n",
       "      <th>Facenumber in posters</th>\n",
       "      <th>User Votes</th>\n",
       "      <th>Reviews by Users</th>\n",
       "      <th>Reviews by Crtiics</th>\n",
       "      <th>IMDB Score</th>\n",
       "    </tr>\n",
       "  </thead>\n",
       "  <tbody>\n",
       "    <tr>\n",
       "      <th>0</th>\n",
       "      <td>Intolerance: Love's Struggle Throughout the Ages</td>\n",
       "      <td>1916.0</td>\n",
       "      <td>Drama|History|War</td>\n",
       "      <td>NaN</td>\n",
       "      <td>USA</td>\n",
       "      <td>Not Rated</td>\n",
       "      <td>123.0</td>\n",
       "      <td>1.33</td>\n",
       "      <td>385907.0</td>\n",
       "      <td>NaN</td>\n",
       "      <td>...</td>\n",
       "      <td>436.0</td>\n",
       "      <td>22.0</td>\n",
       "      <td>9.0</td>\n",
       "      <td>481</td>\n",
       "      <td>691</td>\n",
       "      <td>1.0</td>\n",
       "      <td>10718</td>\n",
       "      <td>88.0</td>\n",
       "      <td>69.0</td>\n",
       "      <td>8.0</td>\n",
       "    </tr>\n",
       "    <tr>\n",
       "      <th>1</th>\n",
       "      <td>Over the Hill to the Poorhouse</td>\n",
       "      <td>1920.0</td>\n",
       "      <td>Crime|Drama</td>\n",
       "      <td>NaN</td>\n",
       "      <td>USA</td>\n",
       "      <td>NaN</td>\n",
       "      <td>110.0</td>\n",
       "      <td>1.33</td>\n",
       "      <td>100000.0</td>\n",
       "      <td>3000000.0</td>\n",
       "      <td>...</td>\n",
       "      <td>2.0</td>\n",
       "      <td>2.0</td>\n",
       "      <td>0.0</td>\n",
       "      <td>4</td>\n",
       "      <td>0</td>\n",
       "      <td>1.0</td>\n",
       "      <td>5</td>\n",
       "      <td>1.0</td>\n",
       "      <td>1.0</td>\n",
       "      <td>4.8</td>\n",
       "    </tr>\n",
       "    <tr>\n",
       "      <th>2</th>\n",
       "      <td>The Big Parade</td>\n",
       "      <td>1925.0</td>\n",
       "      <td>Drama|Romance|War</td>\n",
       "      <td>NaN</td>\n",
       "      <td>USA</td>\n",
       "      <td>Not Rated</td>\n",
       "      <td>151.0</td>\n",
       "      <td>1.33</td>\n",
       "      <td>245000.0</td>\n",
       "      <td>NaN</td>\n",
       "      <td>...</td>\n",
       "      <td>81.0</td>\n",
       "      <td>12.0</td>\n",
       "      <td>6.0</td>\n",
       "      <td>108</td>\n",
       "      <td>226</td>\n",
       "      <td>0.0</td>\n",
       "      <td>4849</td>\n",
       "      <td>45.0</td>\n",
       "      <td>48.0</td>\n",
       "      <td>8.3</td>\n",
       "    </tr>\n",
       "    <tr>\n",
       "      <th>3</th>\n",
       "      <td>Metropolis</td>\n",
       "      <td>1927.0</td>\n",
       "      <td>Drama|Sci-Fi</td>\n",
       "      <td>German</td>\n",
       "      <td>Germany</td>\n",
       "      <td>Not Rated</td>\n",
       "      <td>145.0</td>\n",
       "      <td>1.33</td>\n",
       "      <td>6000000.0</td>\n",
       "      <td>26435.0</td>\n",
       "      <td>...</td>\n",
       "      <td>136.0</td>\n",
       "      <td>23.0</td>\n",
       "      <td>18.0</td>\n",
       "      <td>203</td>\n",
       "      <td>12000</td>\n",
       "      <td>1.0</td>\n",
       "      <td>111841</td>\n",
       "      <td>413.0</td>\n",
       "      <td>260.0</td>\n",
       "      <td>8.3</td>\n",
       "    </tr>\n",
       "    <tr>\n",
       "      <th>4</th>\n",
       "      <td>Pandora's Box</td>\n",
       "      <td>1929.0</td>\n",
       "      <td>Crime|Drama|Romance</td>\n",
       "      <td>German</td>\n",
       "      <td>Germany</td>\n",
       "      <td>Not Rated</td>\n",
       "      <td>110.0</td>\n",
       "      <td>1.33</td>\n",
       "      <td>NaN</td>\n",
       "      <td>9950.0</td>\n",
       "      <td>...</td>\n",
       "      <td>426.0</td>\n",
       "      <td>20.0</td>\n",
       "      <td>3.0</td>\n",
       "      <td>455</td>\n",
       "      <td>926</td>\n",
       "      <td>1.0</td>\n",
       "      <td>7431</td>\n",
       "      <td>84.0</td>\n",
       "      <td>71.0</td>\n",
       "      <td>8.0</td>\n",
       "    </tr>\n",
       "  </tbody>\n",
       "</table>\n",
       "<p>5 rows × 25 columns</p>\n",
       "</div>"
      ],
      "text/plain": [
       "                                               Title    Year  \\\n",
       "0  Intolerance: Love's Struggle Throughout the Ages   1916.0   \n",
       "1                    Over the Hill to the Poorhouse   1920.0   \n",
       "2                                    The Big Parade   1925.0   \n",
       "3                                        Metropolis   1927.0   \n",
       "4                                     Pandora's Box   1929.0   \n",
       "\n",
       "                Genres Language  Country Content Rating  Duration  \\\n",
       "0    Drama|History|War      NaN      USA      Not Rated     123.0   \n",
       "1          Crime|Drama      NaN      USA            NaN     110.0   \n",
       "2    Drama|Romance|War      NaN      USA      Not Rated     151.0   \n",
       "3         Drama|Sci-Fi   German  Germany      Not Rated     145.0   \n",
       "4  Crime|Drama|Romance   German  Germany      Not Rated     110.0   \n",
       "\n",
       "   Aspect Ratio     Budget  Gross Earnings  ... Facebook Likes - Actor 1  \\\n",
       "0          1.33   385907.0             NaN  ...                    436.0   \n",
       "1          1.33   100000.0       3000000.0  ...                      2.0   \n",
       "2          1.33   245000.0             NaN  ...                     81.0   \n",
       "3          1.33  6000000.0         26435.0  ...                    136.0   \n",
       "4          1.33        NaN          9950.0  ...                    426.0   \n",
       "\n",
       "  Facebook Likes - Actor 2 Facebook Likes - Actor 3  \\\n",
       "0                     22.0                      9.0   \n",
       "1                      2.0                      0.0   \n",
       "2                     12.0                      6.0   \n",
       "3                     23.0                     18.0   \n",
       "4                     20.0                      3.0   \n",
       "\n",
       "  Facebook Likes - cast Total  Facebook likes - Movie  Facenumber in posters  \\\n",
       "0                         481                     691                    1.0   \n",
       "1                           4                       0                    1.0   \n",
       "2                         108                     226                    0.0   \n",
       "3                         203                   12000                    1.0   \n",
       "4                         455                     926                    1.0   \n",
       "\n",
       "   User Votes  Reviews by Users  Reviews by Crtiics  IMDB Score  \n",
       "0       10718              88.0                69.0         8.0  \n",
       "1           5               1.0                 1.0         4.8  \n",
       "2        4849              45.0                48.0         8.3  \n",
       "3      111841             413.0               260.0         8.3  \n",
       "4        7431              84.0                71.0         8.0  \n",
       "\n",
       "[5 rows x 25 columns]"
      ]
     },
     "execution_count": 1,
     "metadata": {},
     "output_type": "execute_result"
    }
   ],
   "source": [
    "import pandas as pd, numpy as np\n",
    "xlsMovies = 'movies.xls'\n",
    "xlsFile = pd.ExcelFile(xlsMovies)\n",
    "movies_hojas = []\n",
    "for sheet in xlsFile.sheet_names:\n",
    "    movies_hojas.append(xlsFile.parse(sheet))\n",
    "dfMovies_hojas = pd.concat(movies_hojas)\n",
    "dfMovies_hojas.head()"
   ]
  },
  {
   "cell_type": "code",
   "execution_count": 2,
   "metadata": {},
   "outputs": [
    {
     "data": {
      "image/png": "[encoded data removed]",
      "text/plain": [
       "<Figure size 432x288 with 1 Axes>"
      ]
     },
     "metadata": {
      "needs_background": "light"
     },
     "output_type": "display_data"
    }
   ],
   "source": [
    "import matplotlib.pyplot as plt\n",
    "%matplotlib inline\n",
    "\n",
    "dfMovies_hojas['IMDB Score'].plot(kind='hist')\n",
    "plt.show()"
   ]
  },
  {
   "cell_type": "code",
   "execution_count": 3,
   "metadata": {},
   "outputs": [
    {
     "data": {
      "text/plain": [
       "Index(['Title', 'Year', 'Genres', 'Language', 'Country', 'Content Rating',\n",
       "       'Duration', 'Aspect Ratio', 'Budget', 'Gross Earnings', 'Director',\n",
       "       'Actor 1', 'Actor 2', 'Actor 3', 'Facebook Likes - Director',\n",
       "       'Facebook Likes - Actor 1', 'Facebook Likes - Actor 2',\n",
       "       'Facebook Likes - Actor 3', 'Facebook Likes - cast Total',\n",
       "       'Facebook likes - Movie', 'Facenumber in posters', 'User Votes',\n",
       "       'Reviews by Users', 'Reviews by Crtiics', 'IMDB Score'],\n",
       "      dtype='object')"
      ]
     },
     "execution_count": 3,
     "metadata": {},
     "output_type": "execute_result"
    }
   ],
   "source": [
    "dfMovies = dfMovies_hojas\n",
    "dfMovies.columns"
   ]
  },
  {
   "cell_type": "code",
   "execution_count": 4,
   "metadata": {},
   "outputs": [
    {
     "data": {
      "text/html": [
       "<div>\n",
       "<style scoped>\n",
       "    .dataframe tbody tr th:only-of-type {\n",
       "        vertical-align: middle;\n",
       "    }\n",
       "\n",
       "    .dataframe tbody tr th {\n",
       "        vertical-align: top;\n",
       "    }\n",
       "\n",
       "    .dataframe thead th {\n",
       "        text-align: right;\n",
       "    }\n",
       "</style>\n",
       "<table border=\"1\" class=\"dataframe\">\n",
       "  <thead>\n",
       "    <tr style=\"text-align: right;\">\n",
       "      <th></th>\n",
       "      <th>Title</th>\n",
       "      <th>Gross Earnings</th>\n",
       "    </tr>\n",
       "  </thead>\n",
       "  <tbody>\n",
       "    <tr>\n",
       "      <th>1867</th>\n",
       "      <td>Avatar</td>\n",
       "      <td>760505847.0</td>\n",
       "    </tr>\n",
       "    <tr>\n",
       "      <th>1027</th>\n",
       "      <td>Titanic</td>\n",
       "      <td>658672302.0</td>\n",
       "    </tr>\n",
       "    <tr>\n",
       "      <th>1263</th>\n",
       "      <td>Jurassic World</td>\n",
       "      <td>652177271.0</td>\n",
       "    </tr>\n",
       "    <tr>\n",
       "      <th>610</th>\n",
       "      <td>The Avengers</td>\n",
       "      <td>623279547.0</td>\n",
       "    </tr>\n",
       "    <tr>\n",
       "      <th>611</th>\n",
       "      <td>The Avengers</td>\n",
       "      <td>623279547.0</td>\n",
       "    </tr>\n",
       "    <tr>\n",
       "      <th>1774</th>\n",
       "      <td>The Dark Knight</td>\n",
       "      <td>533316061.0</td>\n",
       "    </tr>\n",
       "    <tr>\n",
       "      <th>1281</th>\n",
       "      <td>Star Wars: Episode I - The Phantom Menace</td>\n",
       "      <td>474544677.0</td>\n",
       "    </tr>\n",
       "    <tr>\n",
       "      <th>226</th>\n",
       "      <td>Star Wars: Episode IV - A New Hope</td>\n",
       "      <td>460935665.0</td>\n",
       "    </tr>\n",
       "    <tr>\n",
       "      <th>1183</th>\n",
       "      <td>Avengers: Age of Ultron</td>\n",
       "      <td>458991599.0</td>\n",
       "    </tr>\n",
       "    <tr>\n",
       "      <th>618</th>\n",
       "      <td>The Dark Knight Rises</td>\n",
       "      <td>448130642.0</td>\n",
       "    </tr>\n",
       "  </tbody>\n",
       "</table>\n",
       "</div>"
      ],
      "text/plain": [
       "                                           Title  Gross Earnings\n",
       "1867                                     Avatar      760505847.0\n",
       "1027                                    Titanic      658672302.0\n",
       "1263                             Jurassic World      652177271.0\n",
       "610                                The Avengers      623279547.0\n",
       "611                                The Avengers      623279547.0\n",
       "1774                            The Dark Knight      533316061.0\n",
       "1281  Star Wars: Episode I - The Phantom Menace      474544677.0\n",
       "226          Star Wars: Episode IV - A New Hope      460935665.0\n",
       "1183                    Avengers: Age of Ultron      458991599.0\n",
       "618                       The Dark Knight Rises      448130642.0"
      ]
     },
     "execution_count": 4,
     "metadata": {},
     "output_type": "execute_result"
    }
   ],
   "source": [
    "dfMovies_sorted_by_gross = dfMovies.sort_values('Gross Earnings', ascending = False)\n",
    "dfMovies_sorted_by_gross[['Title', 'Gross Earnings']].head(10)"
   ]
  },
  {
   "cell_type": "code",
   "execution_count": 6,
   "metadata": {},
   "outputs": [
    {
     "data": {
      "image/png": "[encoded data removed]",
      "text/plain": [
       "<Figure size 432x288 with 1 Axes>"
      ]
     },
     "metadata": {
      "needs_background": "light"
     },
     "output_type": "display_data"
    }
   ],
   "source": [
    "import matplotlib.pyplot as plt\n",
    "%matplotlib inline\n",
    "dfMovies_sorted_by_gross['Gross Earnings'].head(10).plot(kind=\"barh\")\n",
    "plt.show()"
   ]
  },
  {
   "cell_type": "code",
   "execution_count": 8,
   "metadata": {},
   "outputs": [
    {
     "data": {
      "text/html": [
       "<style  type=\"text/css\" >\n",
       "</style><table id=\"T_d0286d8c_f4eb_11e9_9f39_5c93a2f59e02\" ><thead>    <tr>        <th class=\"blank level0\" ></th>        <th class=\"col_heading level0 col0\" >Year</th>        <th class=\"col_heading level0 col1\" >Duration</th>        <th class=\"col_heading level0 col2\" >Aspect Ratio</th>        <th class=\"col_heading level0 col3\" >Budget</th>        <th class=\"col_heading level0 col4\" >Gross Earnings</th>        <th class=\"col_heading level0 col5\" >Facebook Likes - Director</th>        <th class=\"col_heading level0 col6\" >Facebook Likes - Actor 1</th>        <th class=\"col_heading level0 col7\" >Facebook Likes - Actor 2</th>        <th class=\"col_heading level0 col8\" >Facebook Likes - Actor 3</th>        <th class=\"col_heading level0 col9\" >Facebook Likes - cast Total</th>        <th class=\"col_heading level0 col10\" >Facebook likes - Movie</th>        <th class=\"col_heading level0 col11\" >Facenumber in posters</th>        <th class=\"col_heading level0 col12\" >User Votes</th>        <th class=\"col_heading level0 col13\" >Reviews by Users</th>        <th class=\"col_heading level0 col14\" >Reviews by Crtiics</th>        <th class=\"col_heading level0 col15\" >IMDB Score</th>    </tr></thead><tbody>\n",
       "                <tr>\n",
       "                        <th id=\"T_d0286d8c_f4eb_11e9_9f39_5c93a2f59e02level0_row0\" class=\"row_heading level0 row0\" >count</th>\n",
       "                        <td id=\"T_d0286d8c_f4eb_11e9_9f39_5c93a2f59e02row0_col0\" class=\"data row0 col0\" >4935</td>\n",
       "                        <td id=\"T_d0286d8c_f4eb_11e9_9f39_5c93a2f59e02row0_col1\" class=\"data row0 col1\" >5028</td>\n",
       "                        <td id=\"T_d0286d8c_f4eb_11e9_9f39_5c93a2f59e02row0_col2\" class=\"data row0 col2\" >4714</td>\n",
       "                        <td id=\"T_d0286d8c_f4eb_11e9_9f39_5c93a2f59e02row0_col3\" class=\"data row0 col3\" >4551</td>\n",
       "                        <td id=\"T_d0286d8c_f4eb_11e9_9f39_5c93a2f59e02row0_col4\" class=\"data row0 col4\" >4159</td>\n",
       "                        <td id=\"T_d0286d8c_f4eb_11e9_9f39_5c93a2f59e02row0_col5\" class=\"data row0 col5\" >4938</td>\n",
       "                        <td id=\"T_d0286d8c_f4eb_11e9_9f39_5c93a2f59e02row0_col6\" class=\"data row0 col6\" >5035</td>\n",
       "                        <td id=\"T_d0286d8c_f4eb_11e9_9f39_5c93a2f59e02row0_col7\" class=\"data row0 col7\" >5029</td>\n",
       "                        <td id=\"T_d0286d8c_f4eb_11e9_9f39_5c93a2f59e02row0_col8\" class=\"data row0 col8\" >5020</td>\n",
       "                        <td id=\"T_d0286d8c_f4eb_11e9_9f39_5c93a2f59e02row0_col9\" class=\"data row0 col9\" >5042</td>\n",
       "                        <td id=\"T_d0286d8c_f4eb_11e9_9f39_5c93a2f59e02row0_col10\" class=\"data row0 col10\" >5042</td>\n",
       "                        <td id=\"T_d0286d8c_f4eb_11e9_9f39_5c93a2f59e02row0_col11\" class=\"data row0 col11\" >5029</td>\n",
       "                        <td id=\"T_d0286d8c_f4eb_11e9_9f39_5c93a2f59e02row0_col12\" class=\"data row0 col12\" >5042</td>\n",
       "                        <td id=\"T_d0286d8c_f4eb_11e9_9f39_5c93a2f59e02row0_col13\" class=\"data row0 col13\" >5022</td>\n",
       "                        <td id=\"T_d0286d8c_f4eb_11e9_9f39_5c93a2f59e02row0_col14\" class=\"data row0 col14\" >4993</td>\n",
       "                        <td id=\"T_d0286d8c_f4eb_11e9_9f39_5c93a2f59e02row0_col15\" class=\"data row0 col15\" >5042</td>\n",
       "            </tr>\n",
       "            <tr>\n",
       "                        <th id=\"T_d0286d8c_f4eb_11e9_9f39_5c93a2f59e02level0_row1\" class=\"row_heading level0 row1\" >mean</th>\n",
       "                        <td id=\"T_d0286d8c_f4eb_11e9_9f39_5c93a2f59e02row1_col0\" class=\"data row1 col0\" >2002.47</td>\n",
       "                        <td id=\"T_d0286d8c_f4eb_11e9_9f39_5c93a2f59e02row1_col1\" class=\"data row1 col1\" >107.201</td>\n",
       "                        <td id=\"T_d0286d8c_f4eb_11e9_9f39_5c93a2f59e02row1_col2\" class=\"data row1 col2\" >2.2204</td>\n",
       "                        <td id=\"T_d0286d8c_f4eb_11e9_9f39_5c93a2f59e02row1_col3\" class=\"data row1 col3\" >3.97526e+07</td>\n",
       "                        <td id=\"T_d0286d8c_f4eb_11e9_9f39_5c93a2f59e02row1_col4\" class=\"data row1 col4\" >4.84684e+07</td>\n",
       "                        <td id=\"T_d0286d8c_f4eb_11e9_9f39_5c93a2f59e02row1_col5\" class=\"data row1 col5\" >686.622</td>\n",
       "                        <td id=\"T_d0286d8c_f4eb_11e9_9f39_5c93a2f59e02row1_col6\" class=\"data row1 col6\" >6561.32</td>\n",
       "                        <td id=\"T_d0286d8c_f4eb_11e9_9f39_5c93a2f59e02row1_col7\" class=\"data row1 col7\" >1652.08</td>\n",
       "                        <td id=\"T_d0286d8c_f4eb_11e9_9f39_5c93a2f59e02row1_col8\" class=\"data row1 col8\" >645.01</td>\n",
       "                        <td id=\"T_d0286d8c_f4eb_11e9_9f39_5c93a2f59e02row1_col9\" class=\"data row1 col9\" >9700.96</td>\n",
       "                        <td id=\"T_d0286d8c_f4eb_11e9_9f39_5c93a2f59e02row1_col10\" class=\"data row1 col10\" >7527.46</td>\n",
       "                        <td id=\"T_d0286d8c_f4eb_11e9_9f39_5c93a2f59e02row1_col11\" class=\"data row1 col11\" >1.37145</td>\n",
       "                        <td id=\"T_d0286d8c_f4eb_11e9_9f39_5c93a2f59e02row1_col12\" class=\"data row1 col12\" >83684.8</td>\n",
       "                        <td id=\"T_d0286d8c_f4eb_11e9_9f39_5c93a2f59e02row1_col13\" class=\"data row1 col13\" >272.771</td>\n",
       "                        <td id=\"T_d0286d8c_f4eb_11e9_9f39_5c93a2f59e02row1_col14\" class=\"data row1 col14\" >140.194</td>\n",
       "                        <td id=\"T_d0286d8c_f4eb_11e9_9f39_5c93a2f59e02row1_col15\" class=\"data row1 col15\" >6.44201</td>\n",
       "            </tr>\n",
       "            <tr>\n",
       "                        <th id=\"T_d0286d8c_f4eb_11e9_9f39_5c93a2f59e02level0_row2\" class=\"row_heading level0 row2\" >std</th>\n",
       "                        <td id=\"T_d0286d8c_f4eb_11e9_9f39_5c93a2f59e02row2_col0\" class=\"data row2 col0\" >12.4746</td>\n",
       "                        <td id=\"T_d0286d8c_f4eb_11e9_9f39_5c93a2f59e02row2_col1\" class=\"data row2 col1\" >25.1974</td>\n",
       "                        <td id=\"T_d0286d8c_f4eb_11e9_9f39_5c93a2f59e02row2_col2\" class=\"data row2 col2\" >1.38511</td>\n",
       "                        <td id=\"T_d0286d8c_f4eb_11e9_9f39_5c93a2f59e02row2_col3\" class=\"data row2 col3\" >2.06115e+08</td>\n",
       "                        <td id=\"T_d0286d8c_f4eb_11e9_9f39_5c93a2f59e02row2_col4\" class=\"data row2 col4\" >6.8453e+07</td>\n",
       "                        <td id=\"T_d0286d8c_f4eb_11e9_9f39_5c93a2f59e02row2_col5\" class=\"data row2 col5\" >2813.6</td>\n",
       "                        <td id=\"T_d0286d8c_f4eb_11e9_9f39_5c93a2f59e02row2_col6\" class=\"data row2 col6\" >15022</td>\n",
       "                        <td id=\"T_d0286d8c_f4eb_11e9_9f39_5c93a2f59e02row2_col7\" class=\"data row2 col7\" >4042.77</td>\n",
       "                        <td id=\"T_d0286d8c_f4eb_11e9_9f39_5c93a2f59e02row2_col8\" class=\"data row2 col8\" >1665.04</td>\n",
       "                        <td id=\"T_d0286d8c_f4eb_11e9_9f39_5c93a2f59e02row2_col9\" class=\"data row2 col9\" >18165.1</td>\n",
       "                        <td id=\"T_d0286d8c_f4eb_11e9_9f39_5c93a2f59e02row2_col10\" class=\"data row2 col10\" >19322.1</td>\n",
       "                        <td id=\"T_d0286d8c_f4eb_11e9_9f39_5c93a2f59e02row2_col11\" class=\"data row2 col11\" >2.01368</td>\n",
       "                        <td id=\"T_d0286d8c_f4eb_11e9_9f39_5c93a2f59e02row2_col12\" class=\"data row2 col12\" >138494</td>\n",
       "                        <td id=\"T_d0286d8c_f4eb_11e9_9f39_5c93a2f59e02row2_col13\" class=\"data row2 col13\" >377.983</td>\n",
       "                        <td id=\"T_d0286d8c_f4eb_11e9_9f39_5c93a2f59e02row2_col14\" class=\"data row2 col14\" >121.602</td>\n",
       "                        <td id=\"T_d0286d8c_f4eb_11e9_9f39_5c93a2f59e02row2_col15\" class=\"data row2 col15\" >1.12519</td>\n",
       "            </tr>\n",
       "            <tr>\n",
       "                        <th id=\"T_d0286d8c_f4eb_11e9_9f39_5c93a2f59e02level0_row3\" class=\"row_heading level0 row3\" >min</th>\n",
       "                        <td id=\"T_d0286d8c_f4eb_11e9_9f39_5c93a2f59e02row3_col0\" class=\"data row3 col0\" >1916</td>\n",
       "                        <td id=\"T_d0286d8c_f4eb_11e9_9f39_5c93a2f59e02row3_col1\" class=\"data row3 col1\" >7</td>\n",
       "                        <td id=\"T_d0286d8c_f4eb_11e9_9f39_5c93a2f59e02row3_col2\" class=\"data row3 col2\" >1.18</td>\n",
       "                        <td id=\"T_d0286d8c_f4eb_11e9_9f39_5c93a2f59e02row3_col3\" class=\"data row3 col3\" >218</td>\n",
       "                        <td id=\"T_d0286d8c_f4eb_11e9_9f39_5c93a2f59e02row3_col4\" class=\"data row3 col4\" >162</td>\n",
       "                        <td id=\"T_d0286d8c_f4eb_11e9_9f39_5c93a2f59e02row3_col5\" class=\"data row3 col5\" >0</td>\n",
       "                        <td id=\"T_d0286d8c_f4eb_11e9_9f39_5c93a2f59e02row3_col6\" class=\"data row3 col6\" >0</td>\n",
       "                        <td id=\"T_d0286d8c_f4eb_11e9_9f39_5c93a2f59e02row3_col7\" class=\"data row3 col7\" >0</td>\n",
       "                        <td id=\"T_d0286d8c_f4eb_11e9_9f39_5c93a2f59e02row3_col8\" class=\"data row3 col8\" >0</td>\n",
       "                        <td id=\"T_d0286d8c_f4eb_11e9_9f39_5c93a2f59e02row3_col9\" class=\"data row3 col9\" >0</td>\n",
       "                        <td id=\"T_d0286d8c_f4eb_11e9_9f39_5c93a2f59e02row3_col10\" class=\"data row3 col10\" >0</td>\n",
       "                        <td id=\"T_d0286d8c_f4eb_11e9_9f39_5c93a2f59e02row3_col11\" class=\"data row3 col11\" >0</td>\n",
       "                        <td id=\"T_d0286d8c_f4eb_11e9_9f39_5c93a2f59e02row3_col12\" class=\"data row3 col12\" >5</td>\n",
       "                        <td id=\"T_d0286d8c_f4eb_11e9_9f39_5c93a2f59e02row3_col13\" class=\"data row3 col13\" >1</td>\n",
       "                        <td id=\"T_d0286d8c_f4eb_11e9_9f39_5c93a2f59e02row3_col14\" class=\"data row3 col14\" >1</td>\n",
       "                        <td id=\"T_d0286d8c_f4eb_11e9_9f39_5c93a2f59e02row3_col15\" class=\"data row3 col15\" >1.6</td>\n",
       "            </tr>\n",
       "            <tr>\n",
       "                        <th id=\"T_d0286d8c_f4eb_11e9_9f39_5c93a2f59e02level0_row4\" class=\"row_heading level0 row4\" >25%</th>\n",
       "                        <td id=\"T_d0286d8c_f4eb_11e9_9f39_5c93a2f59e02row4_col0\" class=\"data row4 col0\" >1999</td>\n",
       "                        <td id=\"T_d0286d8c_f4eb_11e9_9f39_5c93a2f59e02row4_col1\" class=\"data row4 col1\" >93</td>\n",
       "                        <td id=\"T_d0286d8c_f4eb_11e9_9f39_5c93a2f59e02row4_col2\" class=\"data row4 col2\" >1.85</td>\n",
       "                        <td id=\"T_d0286d8c_f4eb_11e9_9f39_5c93a2f59e02row4_col3\" class=\"data row4 col3\" >6e+06</td>\n",
       "                        <td id=\"T_d0286d8c_f4eb_11e9_9f39_5c93a2f59e02row4_col4\" class=\"data row4 col4\" >5.34099e+06</td>\n",
       "                        <td id=\"T_d0286d8c_f4eb_11e9_9f39_5c93a2f59e02row4_col5\" class=\"data row4 col5\" >7</td>\n",
       "                        <td id=\"T_d0286d8c_f4eb_11e9_9f39_5c93a2f59e02row4_col6\" class=\"data row4 col6\" >614.5</td>\n",
       "                        <td id=\"T_d0286d8c_f4eb_11e9_9f39_5c93a2f59e02row4_col7\" class=\"data row4 col7\" >281</td>\n",
       "                        <td id=\"T_d0286d8c_f4eb_11e9_9f39_5c93a2f59e02row4_col8\" class=\"data row4 col8\" >133</td>\n",
       "                        <td id=\"T_d0286d8c_f4eb_11e9_9f39_5c93a2f59e02row4_col9\" class=\"data row4 col9\" >1411.25</td>\n",
       "                        <td id=\"T_d0286d8c_f4eb_11e9_9f39_5c93a2f59e02row4_col10\" class=\"data row4 col10\" >0</td>\n",
       "                        <td id=\"T_d0286d8c_f4eb_11e9_9f39_5c93a2f59e02row4_col11\" class=\"data row4 col11\" >0</td>\n",
       "                        <td id=\"T_d0286d8c_f4eb_11e9_9f39_5c93a2f59e02row4_col12\" class=\"data row4 col12\" >8599.25</td>\n",
       "                        <td id=\"T_d0286d8c_f4eb_11e9_9f39_5c93a2f59e02row4_col13\" class=\"data row4 col13\" >65</td>\n",
       "                        <td id=\"T_d0286d8c_f4eb_11e9_9f39_5c93a2f59e02row4_col14\" class=\"data row4 col14\" >50</td>\n",
       "                        <td id=\"T_d0286d8c_f4eb_11e9_9f39_5c93a2f59e02row4_col15\" class=\"data row4 col15\" >5.8</td>\n",
       "            </tr>\n",
       "            <tr>\n",
       "                        <th id=\"T_d0286d8c_f4eb_11e9_9f39_5c93a2f59e02level0_row5\" class=\"row_heading level0 row5\" >50%</th>\n",
       "                        <td id=\"T_d0286d8c_f4eb_11e9_9f39_5c93a2f59e02row5_col0\" class=\"data row5 col0\" >2005</td>\n",
       "                        <td id=\"T_d0286d8c_f4eb_11e9_9f39_5c93a2f59e02row5_col1\" class=\"data row5 col1\" >103</td>\n",
       "                        <td id=\"T_d0286d8c_f4eb_11e9_9f39_5c93a2f59e02row5_col2\" class=\"data row5 col2\" >2.35</td>\n",
       "                        <td id=\"T_d0286d8c_f4eb_11e9_9f39_5c93a2f59e02row5_col3\" class=\"data row5 col3\" >2e+07</td>\n",
       "                        <td id=\"T_d0286d8c_f4eb_11e9_9f39_5c93a2f59e02row5_col4\" class=\"data row5 col4\" >2.55175e+07</td>\n",
       "                        <td id=\"T_d0286d8c_f4eb_11e9_9f39_5c93a2f59e02row5_col5\" class=\"data row5 col5\" >49</td>\n",
       "                        <td id=\"T_d0286d8c_f4eb_11e9_9f39_5c93a2f59e02row5_col6\" class=\"data row5 col6\" >988</td>\n",
       "                        <td id=\"T_d0286d8c_f4eb_11e9_9f39_5c93a2f59e02row5_col7\" class=\"data row5 col7\" >595</td>\n",
       "                        <td id=\"T_d0286d8c_f4eb_11e9_9f39_5c93a2f59e02row5_col8\" class=\"data row5 col8\" >371.5</td>\n",
       "                        <td id=\"T_d0286d8c_f4eb_11e9_9f39_5c93a2f59e02row5_col9\" class=\"data row5 col9\" >3091</td>\n",
       "                        <td id=\"T_d0286d8c_f4eb_11e9_9f39_5c93a2f59e02row5_col10\" class=\"data row5 col10\" >166</td>\n",
       "                        <td id=\"T_d0286d8c_f4eb_11e9_9f39_5c93a2f59e02row5_col11\" class=\"data row5 col11\" >1</td>\n",
       "                        <td id=\"T_d0286d8c_f4eb_11e9_9f39_5c93a2f59e02row5_col12\" class=\"data row5 col12\" >34371</td>\n",
       "                        <td id=\"T_d0286d8c_f4eb_11e9_9f39_5c93a2f59e02row5_col13\" class=\"data row5 col13\" >156</td>\n",
       "                        <td id=\"T_d0286d8c_f4eb_11e9_9f39_5c93a2f59e02row5_col14\" class=\"data row5 col14\" >110</td>\n",
       "                        <td id=\"T_d0286d8c_f4eb_11e9_9f39_5c93a2f59e02row5_col15\" class=\"data row5 col15\" >6.6</td>\n",
       "            </tr>\n",
       "            <tr>\n",
       "                        <th id=\"T_d0286d8c_f4eb_11e9_9f39_5c93a2f59e02level0_row6\" class=\"row_heading level0 row6\" >75%</th>\n",
       "                        <td id=\"T_d0286d8c_f4eb_11e9_9f39_5c93a2f59e02row6_col0\" class=\"data row6 col0\" >2011</td>\n",
       "                        <td id=\"T_d0286d8c_f4eb_11e9_9f39_5c93a2f59e02row6_col1\" class=\"data row6 col1\" >118</td>\n",
       "                        <td id=\"T_d0286d8c_f4eb_11e9_9f39_5c93a2f59e02row6_col2\" class=\"data row6 col2\" >2.35</td>\n",
       "                        <td id=\"T_d0286d8c_f4eb_11e9_9f39_5c93a2f59e02row6_col3\" class=\"data row6 col3\" >4.5e+07</td>\n",
       "                        <td id=\"T_d0286d8c_f4eb_11e9_9f39_5c93a2f59e02row6_col4\" class=\"data row6 col4\" >6.23094e+07</td>\n",
       "                        <td id=\"T_d0286d8c_f4eb_11e9_9f39_5c93a2f59e02row6_col5\" class=\"data row6 col5\" >194.75</td>\n",
       "                        <td id=\"T_d0286d8c_f4eb_11e9_9f39_5c93a2f59e02row6_col6\" class=\"data row6 col6\" >11000</td>\n",
       "                        <td id=\"T_d0286d8c_f4eb_11e9_9f39_5c93a2f59e02row6_col7\" class=\"data row6 col7\" >918</td>\n",
       "                        <td id=\"T_d0286d8c_f4eb_11e9_9f39_5c93a2f59e02row6_col8\" class=\"data row6 col8\" >636</td>\n",
       "                        <td id=\"T_d0286d8c_f4eb_11e9_9f39_5c93a2f59e02row6_col9\" class=\"data row6 col9\" >13758.8</td>\n",
       "                        <td id=\"T_d0286d8c_f4eb_11e9_9f39_5c93a2f59e02row6_col10\" class=\"data row6 col10\" >3000</td>\n",
       "                        <td id=\"T_d0286d8c_f4eb_11e9_9f39_5c93a2f59e02row6_col11\" class=\"data row6 col11\" >2</td>\n",
       "                        <td id=\"T_d0286d8c_f4eb_11e9_9f39_5c93a2f59e02row6_col12\" class=\"data row6 col12\" >96347</td>\n",
       "                        <td id=\"T_d0286d8c_f4eb_11e9_9f39_5c93a2f59e02row6_col13\" class=\"data row6 col13\" >326</td>\n",
       "                        <td id=\"T_d0286d8c_f4eb_11e9_9f39_5c93a2f59e02row6_col14\" class=\"data row6 col14\" >195</td>\n",
       "                        <td id=\"T_d0286d8c_f4eb_11e9_9f39_5c93a2f59e02row6_col15\" class=\"data row6 col15\" >7.2</td>\n",
       "            </tr>\n",
       "            <tr>\n",
       "                        <th id=\"T_d0286d8c_f4eb_11e9_9f39_5c93a2f59e02level0_row7\" class=\"row_heading level0 row7\" >max</th>\n",
       "                        <td id=\"T_d0286d8c_f4eb_11e9_9f39_5c93a2f59e02row7_col0\" class=\"data row7 col0\" >2016</td>\n",
       "                        <td id=\"T_d0286d8c_f4eb_11e9_9f39_5c93a2f59e02row7_col1\" class=\"data row7 col1\" >511</td>\n",
       "                        <td id=\"T_d0286d8c_f4eb_11e9_9f39_5c93a2f59e02row7_col2\" class=\"data row7 col2\" >16</td>\n",
       "                        <td id=\"T_d0286d8c_f4eb_11e9_9f39_5c93a2f59e02row7_col3\" class=\"data row7 col3\" >1.22155e+10</td>\n",
       "                        <td id=\"T_d0286d8c_f4eb_11e9_9f39_5c93a2f59e02row7_col4\" class=\"data row7 col4\" >7.60506e+08</td>\n",
       "                        <td id=\"T_d0286d8c_f4eb_11e9_9f39_5c93a2f59e02row7_col5\" class=\"data row7 col5\" >23000</td>\n",
       "                        <td id=\"T_d0286d8c_f4eb_11e9_9f39_5c93a2f59e02row7_col6\" class=\"data row7 col6\" >640000</td>\n",
       "                        <td id=\"T_d0286d8c_f4eb_11e9_9f39_5c93a2f59e02row7_col7\" class=\"data row7 col7\" >137000</td>\n",
       "                        <td id=\"T_d0286d8c_f4eb_11e9_9f39_5c93a2f59e02row7_col8\" class=\"data row7 col8\" >23000</td>\n",
       "                        <td id=\"T_d0286d8c_f4eb_11e9_9f39_5c93a2f59e02row7_col9\" class=\"data row7 col9\" >656730</td>\n",
       "                        <td id=\"T_d0286d8c_f4eb_11e9_9f39_5c93a2f59e02row7_col10\" class=\"data row7 col10\" >349000</td>\n",
       "                        <td id=\"T_d0286d8c_f4eb_11e9_9f39_5c93a2f59e02row7_col11\" class=\"data row7 col11\" >43</td>\n",
       "                        <td id=\"T_d0286d8c_f4eb_11e9_9f39_5c93a2f59e02row7_col12\" class=\"data row7 col12\" >1.68976e+06</td>\n",
       "                        <td id=\"T_d0286d8c_f4eb_11e9_9f39_5c93a2f59e02row7_col13\" class=\"data row7 col13\" >5060</td>\n",
       "                        <td id=\"T_d0286d8c_f4eb_11e9_9f39_5c93a2f59e02row7_col14\" class=\"data row7 col14\" >813</td>\n",
       "                        <td id=\"T_d0286d8c_f4eb_11e9_9f39_5c93a2f59e02row7_col15\" class=\"data row7 col15\" >9.5</td>\n",
       "            </tr>\n",
       "    </tbody></table>"
      ],
      "text/plain": [
       "<pandas.io.formats.style.Styler at 0x231206a08d0>"
      ]
     },
     "execution_count": 8,
     "metadata": {},
     "output_type": "execute_result"
    }
   ],
   "source": [
    "dfMovies.describe().style.format({'B': \"{:0<4.0f}\", 'D':'{:+.2f}'})"
   ]
  },
  {
   "cell_type": "code",
   "execution_count": 9,
   "metadata": {},
   "outputs": [
    {
     "data": {
      "text/plain": [
       "48468407.52680933"
      ]
     },
     "execution_count": 9,
     "metadata": {},
     "output_type": "execute_result"
    }
   ],
   "source": [
    "dfMovies['Gross Earnings'].mean()"
   ]
  },
  {
   "cell_type": "code",
   "execution_count": 12,
   "metadata": {},
   "outputs": [],
   "source": [
    "dfMovies_Top10 = dfMovies_sorted_by_gross[['Title', 'Gross Earnings']]\n",
    "dfMovies_Top10.set_index('Title', inplace = True) #Solo se puede asignar una vez"
   ]
  },
  {
   "cell_type": "code",
   "execution_count": 13,
   "metadata": {},
   "outputs": [
    {
     "data": {
      "image/png": "[encoded data removed]",
      "text/plain": [
       "<Figure size 432x288 with 1 Axes>"
      ]
     },
     "metadata": {
      "needs_background": "light"
     },
     "output_type": "display_data"
    }
   ],
   "source": [
    "dfMovies_Top10['Gross Earnings'].head(10).plot(kind='barh')\n",
    "plt.show()"
   ]
  },
  {
   "cell_type": "code",
   "execution_count": 14,
   "metadata": {
    "collapsed": true
   },
   "outputs": [
    {
     "data": {
      "text/html": [
       "<div>\n",
       "<style scoped>\n",
       "    .dataframe tbody tr th:only-of-type {\n",
       "        vertical-align: middle;\n",
       "    }\n",
       "\n",
       "    .dataframe tbody tr th {\n",
       "        vertical-align: top;\n",
       "    }\n",
       "\n",
       "    .dataframe thead th {\n",
       "        text-align: right;\n",
       "    }\n",
       "</style>\n",
       "<table border=\"1\" class=\"dataframe\">\n",
       "  <thead>\n",
       "    <tr style=\"text-align: right;\">\n",
       "      <th></th>\n",
       "      <th>Title</th>\n",
       "      <th>Year</th>\n",
       "      <th>Genres</th>\n",
       "      <th>Language</th>\n",
       "      <th>Country</th>\n",
       "      <th>Content Rating</th>\n",
       "      <th>Duration</th>\n",
       "      <th>Aspect Ratio</th>\n",
       "      <th>Budget</th>\n",
       "      <th>Gross Earnings</th>\n",
       "      <th>...</th>\n",
       "      <th>Facebook Likes - Actor 2</th>\n",
       "      <th>Facebook Likes - Actor 3</th>\n",
       "      <th>Facebook Likes - cast Total</th>\n",
       "      <th>Facebook likes - Movie</th>\n",
       "      <th>Facenumber in posters</th>\n",
       "      <th>User Votes</th>\n",
       "      <th>Reviews by Users</th>\n",
       "      <th>Reviews by Crtiics</th>\n",
       "      <th>IMDB Score</th>\n",
       "      <th>Net Earnings</th>\n",
       "    </tr>\n",
       "  </thead>\n",
       "  <tbody>\n",
       "    <tr>\n",
       "      <th>0</th>\n",
       "      <td>Intolerance: Love's Struggle Throughout the Ages</td>\n",
       "      <td>1916.0</td>\n",
       "      <td>Drama|History|War</td>\n",
       "      <td>NaN</td>\n",
       "      <td>USA</td>\n",
       "      <td>Not Rated</td>\n",
       "      <td>123.0</td>\n",
       "      <td>1.33</td>\n",
       "      <td>385907.0</td>\n",
       "      <td>NaN</td>\n",
       "      <td>...</td>\n",
       "      <td>22.0</td>\n",
       "      <td>9.0</td>\n",
       "      <td>481</td>\n",
       "      <td>691</td>\n",
       "      <td>1.0</td>\n",
       "      <td>10718</td>\n",
       "      <td>88.0</td>\n",
       "      <td>69.0</td>\n",
       "      <td>8.0</td>\n",
       "      <td>NaN</td>\n",
       "    </tr>\n",
       "    <tr>\n",
       "      <th>1</th>\n",
       "      <td>Over the Hill to the Poorhouse</td>\n",
       "      <td>1920.0</td>\n",
       "      <td>Crime|Drama</td>\n",
       "      <td>NaN</td>\n",
       "      <td>USA</td>\n",
       "      <td>NaN</td>\n",
       "      <td>110.0</td>\n",
       "      <td>1.33</td>\n",
       "      <td>100000.0</td>\n",
       "      <td>3000000.0</td>\n",
       "      <td>...</td>\n",
       "      <td>2.0</td>\n",
       "      <td>0.0</td>\n",
       "      <td>4</td>\n",
       "      <td>0</td>\n",
       "      <td>1.0</td>\n",
       "      <td>5</td>\n",
       "      <td>1.0</td>\n",
       "      <td>1.0</td>\n",
       "      <td>4.8</td>\n",
       "      <td>2900000.0</td>\n",
       "    </tr>\n",
       "    <tr>\n",
       "      <th>2</th>\n",
       "      <td>The Big Parade</td>\n",
       "      <td>1925.0</td>\n",
       "      <td>Drama|Romance|War</td>\n",
       "      <td>NaN</td>\n",
       "      <td>USA</td>\n",
       "      <td>Not Rated</td>\n",
       "      <td>151.0</td>\n",
       "      <td>1.33</td>\n",
       "      <td>245000.0</td>\n",
       "      <td>NaN</td>\n",
       "      <td>...</td>\n",
       "      <td>12.0</td>\n",
       "      <td>6.0</td>\n",
       "      <td>108</td>\n",
       "      <td>226</td>\n",
       "      <td>0.0</td>\n",
       "      <td>4849</td>\n",
       "      <td>45.0</td>\n",
       "      <td>48.0</td>\n",
       "      <td>8.3</td>\n",
       "      <td>NaN</td>\n",
       "    </tr>\n",
       "    <tr>\n",
       "      <th>3</th>\n",
       "      <td>Metropolis</td>\n",
       "      <td>1927.0</td>\n",
       "      <td>Drama|Sci-Fi</td>\n",
       "      <td>German</td>\n",
       "      <td>Germany</td>\n",
       "      <td>Not Rated</td>\n",
       "      <td>145.0</td>\n",
       "      <td>1.33</td>\n",
       "      <td>6000000.0</td>\n",
       "      <td>26435.0</td>\n",
       "      <td>...</td>\n",
       "      <td>23.0</td>\n",
       "      <td>18.0</td>\n",
       "      <td>203</td>\n",
       "      <td>12000</td>\n",
       "      <td>1.0</td>\n",
       "      <td>111841</td>\n",
       "      <td>413.0</td>\n",
       "      <td>260.0</td>\n",
       "      <td>8.3</td>\n",
       "      <td>-5973565.0</td>\n",
       "    </tr>\n",
       "    <tr>\n",
       "      <th>4</th>\n",
       "      <td>Pandora's Box</td>\n",
       "      <td>1929.0</td>\n",
       "      <td>Crime|Drama|Romance</td>\n",
       "      <td>German</td>\n",
       "      <td>Germany</td>\n",
       "      <td>Not Rated</td>\n",
       "      <td>110.0</td>\n",
       "      <td>1.33</td>\n",
       "      <td>NaN</td>\n",
       "      <td>9950.0</td>\n",
       "      <td>...</td>\n",
       "      <td>20.0</td>\n",
       "      <td>3.0</td>\n",
       "      <td>455</td>\n",
       "      <td>926</td>\n",
       "      <td>1.0</td>\n",
       "      <td>7431</td>\n",
       "      <td>84.0</td>\n",
       "      <td>71.0</td>\n",
       "      <td>8.0</td>\n",
       "      <td>NaN</td>\n",
       "    </tr>\n",
       "    <tr>\n",
       "      <th>5</th>\n",
       "      <td>The Broadway Melody</td>\n",
       "      <td>1929.0</td>\n",
       "      <td>Musical|Romance</td>\n",
       "      <td>English</td>\n",
       "      <td>USA</td>\n",
       "      <td>Passed</td>\n",
       "      <td>100.0</td>\n",
       "      <td>1.37</td>\n",
       "      <td>379000.0</td>\n",
       "      <td>2808000.0</td>\n",
       "      <td>...</td>\n",
       "      <td>28.0</td>\n",
       "      <td>4.0</td>\n",
       "      <td>109</td>\n",
       "      <td>167</td>\n",
       "      <td>8.0</td>\n",
       "      <td>4546</td>\n",
       "      <td>71.0</td>\n",
       "      <td>36.0</td>\n",
       "      <td>6.3</td>\n",
       "      <td>2429000.0</td>\n",
       "    </tr>\n",
       "    <tr>\n",
       "      <th>6</th>\n",
       "      <td>Hell's Angels</td>\n",
       "      <td>1930.0</td>\n",
       "      <td>Drama|War</td>\n",
       "      <td>English</td>\n",
       "      <td>USA</td>\n",
       "      <td>Passed</td>\n",
       "      <td>96.0</td>\n",
       "      <td>1.20</td>\n",
       "      <td>3950000.0</td>\n",
       "      <td>NaN</td>\n",
       "      <td>...</td>\n",
       "      <td>12.0</td>\n",
       "      <td>4.0</td>\n",
       "      <td>457</td>\n",
       "      <td>279</td>\n",
       "      <td>1.0</td>\n",
       "      <td>3753</td>\n",
       "      <td>53.0</td>\n",
       "      <td>35.0</td>\n",
       "      <td>7.8</td>\n",
       "      <td>NaN</td>\n",
       "    </tr>\n",
       "    <tr>\n",
       "      <th>7</th>\n",
       "      <td>A Farewell to Arms</td>\n",
       "      <td>1932.0</td>\n",
       "      <td>Drama|Romance|War</td>\n",
       "      <td>English</td>\n",
       "      <td>USA</td>\n",
       "      <td>Unrated</td>\n",
       "      <td>79.0</td>\n",
       "      <td>1.37</td>\n",
       "      <td>800000.0</td>\n",
       "      <td>NaN</td>\n",
       "      <td>...</td>\n",
       "      <td>164.0</td>\n",
       "      <td>99.0</td>\n",
       "      <td>1284</td>\n",
       "      <td>213</td>\n",
       "      <td>1.0</td>\n",
       "      <td>3519</td>\n",
       "      <td>46.0</td>\n",
       "      <td>42.0</td>\n",
       "      <td>6.6</td>\n",
       "      <td>NaN</td>\n",
       "    </tr>\n",
       "    <tr>\n",
       "      <th>8</th>\n",
       "      <td>42nd Street</td>\n",
       "      <td>1933.0</td>\n",
       "      <td>Comedy|Musical|Romance</td>\n",
       "      <td>English</td>\n",
       "      <td>USA</td>\n",
       "      <td>Unrated</td>\n",
       "      <td>89.0</td>\n",
       "      <td>1.37</td>\n",
       "      <td>439000.0</td>\n",
       "      <td>2300000.0</td>\n",
       "      <td>...</td>\n",
       "      <td>105.0</td>\n",
       "      <td>45.0</td>\n",
       "      <td>995</td>\n",
       "      <td>439</td>\n",
       "      <td>2.0</td>\n",
       "      <td>7921</td>\n",
       "      <td>97.0</td>\n",
       "      <td>65.0</td>\n",
       "      <td>7.7</td>\n",
       "      <td>1861000.0</td>\n",
       "    </tr>\n",
       "    <tr>\n",
       "      <th>9</th>\n",
       "      <td>She Done Him Wrong</td>\n",
       "      <td>1933.0</td>\n",
       "      <td>Comedy|Drama|History|Musical|Romance</td>\n",
       "      <td>English</td>\n",
       "      <td>USA</td>\n",
       "      <td>Approved</td>\n",
       "      <td>66.0</td>\n",
       "      <td>1.37</td>\n",
       "      <td>200000.0</td>\n",
       "      <td>NaN</td>\n",
       "      <td>...</td>\n",
       "      <td>85.0</td>\n",
       "      <td>28.0</td>\n",
       "      <td>583</td>\n",
       "      <td>328</td>\n",
       "      <td>1.0</td>\n",
       "      <td>4152</td>\n",
       "      <td>59.0</td>\n",
       "      <td>35.0</td>\n",
       "      <td>6.5</td>\n",
       "      <td>NaN</td>\n",
       "    </tr>\n",
       "  </tbody>\n",
       "</table>\n",
       "<p>10 rows × 26 columns</p>\n",
       "</div>"
      ],
      "text/plain": [
       "                                               Title    Year  \\\n",
       "0  Intolerance: Love's Struggle Throughout the Ages   1916.0   \n",
       "1                    Over the Hill to the Poorhouse   1920.0   \n",
       "2                                    The Big Parade   1925.0   \n",
       "3                                        Metropolis   1927.0   \n",
       "4                                     Pandora's Box   1929.0   \n",
       "5                               The Broadway Melody   1929.0   \n",
       "6                                     Hell's Angels   1930.0   \n",
       "7                                A Farewell to Arms   1932.0   \n",
       "8                                       42nd Street   1933.0   \n",
       "9                                She Done Him Wrong   1933.0   \n",
       "\n",
       "                                 Genres Language  Country Content Rating  \\\n",
       "0                     Drama|History|War      NaN      USA      Not Rated   \n",
       "1                           Crime|Drama      NaN      USA            NaN   \n",
       "2                     Drama|Romance|War      NaN      USA      Not Rated   \n",
       "3                          Drama|Sci-Fi   German  Germany      Not Rated   \n",
       "4                   Crime|Drama|Romance   German  Germany      Not Rated   \n",
       "5                       Musical|Romance  English      USA         Passed   \n",
       "6                             Drama|War  English      USA         Passed   \n",
       "7                     Drama|Romance|War  English      USA        Unrated   \n",
       "8                Comedy|Musical|Romance  English      USA        Unrated   \n",
       "9  Comedy|Drama|History|Musical|Romance  English      USA       Approved   \n",
       "\n",
       "   Duration  Aspect Ratio     Budget  Gross Earnings  ...  \\\n",
       "0     123.0          1.33   385907.0             NaN  ...   \n",
       "1     110.0          1.33   100000.0       3000000.0  ...   \n",
       "2     151.0          1.33   245000.0             NaN  ...   \n",
       "3     145.0          1.33  6000000.0         26435.0  ...   \n",
       "4     110.0          1.33        NaN          9950.0  ...   \n",
       "5     100.0          1.37   379000.0       2808000.0  ...   \n",
       "6      96.0          1.20  3950000.0             NaN  ...   \n",
       "7      79.0          1.37   800000.0             NaN  ...   \n",
       "8      89.0          1.37   439000.0       2300000.0  ...   \n",
       "9      66.0          1.37   200000.0             NaN  ...   \n",
       "\n",
       "  Facebook Likes - Actor 2 Facebook Likes - Actor 3  \\\n",
       "0                     22.0                      9.0   \n",
       "1                      2.0                      0.0   \n",
       "2                     12.0                      6.0   \n",
       "3                     23.0                     18.0   \n",
       "4                     20.0                      3.0   \n",
       "5                     28.0                      4.0   \n",
       "6                     12.0                      4.0   \n",
       "7                    164.0                     99.0   \n",
       "8                    105.0                     45.0   \n",
       "9                     85.0                     28.0   \n",
       "\n",
       "  Facebook Likes - cast Total Facebook likes - Movie  Facenumber in posters  \\\n",
       "0                         481                    691                    1.0   \n",
       "1                           4                      0                    1.0   \n",
       "2                         108                    226                    0.0   \n",
       "3                         203                  12000                    1.0   \n",
       "4                         455                    926                    1.0   \n",
       "5                         109                    167                    8.0   \n",
       "6                         457                    279                    1.0   \n",
       "7                        1284                    213                    1.0   \n",
       "8                         995                    439                    2.0   \n",
       "9                         583                    328                    1.0   \n",
       "\n",
       "   User Votes  Reviews by Users  Reviews by Crtiics  IMDB Score  Net Earnings  \n",
       "0       10718              88.0                69.0         8.0           NaN  \n",
       "1           5               1.0                 1.0         4.8     2900000.0  \n",
       "2        4849              45.0                48.0         8.3           NaN  \n",
       "3      111841             413.0               260.0         8.3    -5973565.0  \n",
       "4        7431              84.0                71.0         8.0           NaN  \n",
       "5        4546              71.0                36.0         6.3     2429000.0  \n",
       "6        3753              53.0                35.0         7.8           NaN  \n",
       "7        3519              46.0                42.0         6.6           NaN  \n",
       "8        7921              97.0                65.0         7.7     1861000.0  \n",
       "9        4152              59.0                35.0         6.5           NaN  \n",
       "\n",
       "[10 rows x 26 columns]"
      ]
     },
     "execution_count": 14,
     "metadata": {},
     "output_type": "execute_result"
    }
   ],
   "source": [
    "dfMovies['Net Earnings'] = dfMovies['Gross Earnings'] - dfMovies['Budget']"
   ]
  },
  {
   "cell_type": "code",
   "execution_count": 17,
   "metadata": {},
   "outputs": [
    {
     "data": {
      "image/png": "[encoded data removed]",
      "text/plain": [
       "<Figure size 432x288 with 1 Axes>"
      ]
     },
     "metadata": {
      "needs_background": "light"
     },
     "output_type": "display_data"
    }
   ],
   "source": [
    "dfMovies_sorted_by_net = dfMovies.sort_values(['Net Earnings'], ascending = False)\n",
    "dfMovies_sorted_by_net.set_index('Title', inplace=True)\n",
    "dfMovies_sorted_by_net['Net Earnings'].head(10).plot(kind='barh')\n",
    "plt.show()"
   ]
  },
  {
   "cell_type": "markdown",
   "metadata": {},
   "source": [
    "## Pivot table in Pandas"
   ]
  },
  {
   "cell_type": "code",
   "execution_count": 18,
   "metadata": {},
   "outputs": [
    {
     "data": {
      "text/html": [
       "<div>\n",
       "<style scoped>\n",
       "    .dataframe tbody tr th:only-of-type {\n",
       "        vertical-align: middle;\n",
       "    }\n",
       "\n",
       "    .dataframe tbody tr th {\n",
       "        vertical-align: top;\n",
       "    }\n",
       "\n",
       "    .dataframe thead th {\n",
       "        text-align: right;\n",
       "    }\n",
       "</style>\n",
       "<table border=\"1\" class=\"dataframe\">\n",
       "  <thead>\n",
       "    <tr style=\"text-align: right;\">\n",
       "      <th></th>\n",
       "      <th>Year</th>\n",
       "      <th>Gross Earnings</th>\n",
       "    </tr>\n",
       "  </thead>\n",
       "  <tbody>\n",
       "    <tr>\n",
       "      <th>0</th>\n",
       "      <td>1916.0</td>\n",
       "      <td>NaN</td>\n",
       "    </tr>\n",
       "    <tr>\n",
       "      <th>1</th>\n",
       "      <td>1920.0</td>\n",
       "      <td>3000000.0</td>\n",
       "    </tr>\n",
       "  </tbody>\n",
       "</table>\n",
       "</div>"
      ],
      "text/plain": [
       "     Year  Gross Earnings\n",
       "0  1916.0             NaN\n",
       "1  1920.0       3000000.0"
      ]
     },
     "execution_count": 18,
     "metadata": {},
     "output_type": "execute_result"
    }
   ],
   "source": [
    "dfMovies_subset = dfMovies[['Year', 'Gross Earnings']]\n",
    "dfMovies_subset.head(n=2)"
   ]
  },
  {
   "cell_type": "code",
   "execution_count": 20,
   "metadata": {},
   "outputs": [
    {
     "data": {
      "text/html": [
       "<div>\n",
       "<style scoped>\n",
       "    .dataframe tbody tr th:only-of-type {\n",
       "        vertical-align: middle;\n",
       "    }\n",
       "\n",
       "    .dataframe tbody tr th {\n",
       "        vertical-align: top;\n",
       "    }\n",
       "\n",
       "    .dataframe thead th {\n",
       "        text-align: right;\n",
       "    }\n",
       "</style>\n",
       "<table border=\"1\" class=\"dataframe\">\n",
       "  <thead>\n",
       "    <tr style=\"text-align: right;\">\n",
       "      <th></th>\n",
       "      <th>Gross Earnings</th>\n",
       "    </tr>\n",
       "    <tr>\n",
       "      <th>Year</th>\n",
       "      <th></th>\n",
       "    </tr>\n",
       "  </thead>\n",
       "  <tbody>\n",
       "    <tr>\n",
       "      <th>1920.0</th>\n",
       "      <td>3000000.0</td>\n",
       "    </tr>\n",
       "    <tr>\n",
       "      <th>1927.0</th>\n",
       "      <td>26435.0</td>\n",
       "    </tr>\n",
       "    <tr>\n",
       "      <th>1929.0</th>\n",
       "      <td>1408975.0</td>\n",
       "    </tr>\n",
       "    <tr>\n",
       "      <th>1933.0</th>\n",
       "      <td>2300000.0</td>\n",
       "    </tr>\n",
       "    <tr>\n",
       "      <th>1935.0</th>\n",
       "      <td>3000000.0</td>\n",
       "    </tr>\n",
       "  </tbody>\n",
       "</table>\n",
       "</div>"
      ],
      "text/plain": [
       "        Gross Earnings\n",
       "Year                  \n",
       "1920.0       3000000.0\n",
       "1927.0         26435.0\n",
       "1929.0       1408975.0\n",
       "1933.0       2300000.0\n",
       "1935.0       3000000.0"
      ]
     },
     "execution_count": 20,
     "metadata": {},
     "output_type": "execute_result"
    }
   ],
   "source": [
    "dfEarnings_Year = dfMovies_subset.pivot_table(index=['Year'])\n",
    "dfEarnings_Year.head()"
   ]
  },
  {
   "cell_type": "code",
   "execution_count": 21,
   "metadata": {},
   "outputs": [
    {
     "data": {
      "text/plain": [
       "<matplotlib.axes._subplots.AxesSubplot at 0x23120f00dd8>"
      ]
     },
     "execution_count": 21,
     "metadata": {},
     "output_type": "execute_result"
    },
    {
     "data": {
      "image/png": "[encoded data removed]",
      "text/plain": [
       "<Figure size 432x288 with 1 Axes>"
      ]
     },
     "metadata": {
      "needs_background": "light"
     },
     "output_type": "display_data"
    }
   ],
   "source": [
    "dfEarnings_Year.plot()"
   ]
  },
  {
   "cell_type": "code",
   "execution_count": 24,
   "metadata": {},
   "outputs": [
    {
     "data": {
      "text/html": [
       "<div>\n",
       "<style scoped>\n",
       "    .dataframe tbody tr th:only-of-type {\n",
       "        vertical-align: middle;\n",
       "    }\n",
       "\n",
       "    .dataframe tbody tr th {\n",
       "        vertical-align: top;\n",
       "    }\n",
       "\n",
       "    .dataframe thead th {\n",
       "        text-align: right;\n",
       "    }\n",
       "</style>\n",
       "<table border=\"1\" class=\"dataframe\">\n",
       "  <thead>\n",
       "    <tr style=\"text-align: right;\">\n",
       "      <th></th>\n",
       "      <th></th>\n",
       "      <th>Gross Earnings</th>\n",
       "    </tr>\n",
       "    <tr>\n",
       "      <th>Country</th>\n",
       "      <th>Language</th>\n",
       "      <th></th>\n",
       "    </tr>\n",
       "  </thead>\n",
       "  <tbody>\n",
       "    <tr>\n",
       "      <th>Afghanistan</th>\n",
       "      <th>Dari</th>\n",
       "      <td>1.127331e+06</td>\n",
       "    </tr>\n",
       "    <tr>\n",
       "      <th>Argentina</th>\n",
       "      <th>Spanish</th>\n",
       "      <td>7.230936e+06</td>\n",
       "    </tr>\n",
       "    <tr>\n",
       "      <th>Aruba</th>\n",
       "      <th>English</th>\n",
       "      <td>1.007614e+07</td>\n",
       "    </tr>\n",
       "    <tr>\n",
       "      <th rowspan=\"2\" valign=\"top\">Australia</th>\n",
       "      <th>Aboriginal</th>\n",
       "      <td>6.165429e+06</td>\n",
       "    </tr>\n",
       "    <tr>\n",
       "      <th>Dzongkha</th>\n",
       "      <td>5.052950e+05</td>\n",
       "    </tr>\n",
       "  </tbody>\n",
       "</table>\n",
       "</div>"
      ],
      "text/plain": [
       "                        Gross Earnings\n",
       "Country     Language                  \n",
       "Afghanistan Dari          1.127331e+06\n",
       "Argentina   Spanish       7.230936e+06\n",
       "Aruba       English       1.007614e+07\n",
       "Australia   Aboriginal    6.165429e+06\n",
       "            Dzongkha      5.052950e+05"
      ]
     },
     "execution_count": 24,
     "metadata": {},
     "output_type": "execute_result"
    }
   ],
   "source": [
    "dfMovies_subset = dfMovies[['Country', 'Language', 'Gross Earnings']]\n",
    "dfEarnings_by_country_language = dfMovies_subset.pivot_table(index = ['Country', 'Language'])\n",
    "dfEarnings_by_country_language.head()\n",
    "                            "
   ]
  },
  {
   "cell_type": "code",
   "execution_count": 26,
   "metadata": {},
   "outputs": [
    {
     "data": {
      "image/png": "[encoded data removed]",
      "text/plain": [
       "<Figure size 1440x576 with 1 Axes>"
      ]
     },
     "metadata": {
      "needs_background": "light"
     },
     "output_type": "display_data"
    }
   ],
   "source": [
    "dfEarnings_by_country_language.head(10).plot(kind='barh', figsize=(20,8))\n",
    "plt.show()"
   ]
  },
  {
   "cell_type": "code",
   "execution_count": 27,
   "metadata": {},
   "outputs": [],
   "source": [
    "dfMovies.head(2)\n",
    "dfMovies.to_excel('movies_consolidado.xlsx')\n",
    "dfMovies.to_excel('movies_consolidado2.xlsx', index = False)\n",
    "dfMovies.to_csv('movies_consolidado.csv')"
   ]
  },
  {
   "cell_type": "code",
   "execution_count": 31,
   "metadata": {},
   "outputs": [],
   "source": [
    "# Excel con formato\n",
    "writer = pd.ExcelWriter('movies_formato.xlsx', engine='xlsxwriter')\n",
    "dfMovies.to_excel(writer, index = False, sheet_name='consolidado')\n",
    "workbook = writer.book\n",
    "worksheet = writer.sheets['consolidado']\n",
    "header_fmt = workbook.add_format({'bold':True})\n",
    "worksheet.set_row(0, None, header_fmt)\n",
    "writer.save()"
   ]
  },
  {
   "cell_type": "markdown",
   "metadata": {},
   "source": [
    "## Leer archivos de Excel (a partir de una fila y columnas seleccionadas)"
   ]
  },
  {
   "cell_type": "code",
   "execution_count": 32,
   "metadata": {},
   "outputs": [
    {
     "data": {
      "text/html": [
       "<div>\n",
       "<style scoped>\n",
       "    .dataframe tbody tr th:only-of-type {\n",
       "        vertical-align: middle;\n",
       "    }\n",
       "\n",
       "    .dataframe tbody tr th {\n",
       "        vertical-align: top;\n",
       "    }\n",
       "\n",
       "    .dataframe thead th {\n",
       "        text-align: right;\n",
       "    }\n",
       "</style>\n",
       "<table border=\"1\" class=\"dataframe\">\n",
       "  <thead>\n",
       "    <tr style=\"text-align: right;\">\n",
       "      <th></th>\n",
       "      <th>Title</th>\n",
       "      <th>Year</th>\n",
       "      <th>Genres</th>\n",
       "      <th>Language</th>\n",
       "      <th>Country</th>\n",
       "      <th>Content Rating</th>\n",
       "      <th>Duration</th>\n",
       "      <th>Aspect Ratio</th>\n",
       "      <th>Budget</th>\n",
       "      <th>Gross Earnings</th>\n",
       "      <th>...</th>\n",
       "      <th>Facebook Likes - Actor 2</th>\n",
       "      <th>Facebook Likes - Actor 3</th>\n",
       "      <th>Facebook Likes - cast Total</th>\n",
       "      <th>Facebook likes - Movie</th>\n",
       "      <th>Facenumber in posters</th>\n",
       "      <th>User Votes</th>\n",
       "      <th>Reviews by Users</th>\n",
       "      <th>Reviews by Crtiics</th>\n",
       "      <th>IMDB Score</th>\n",
       "      <th>Net Earnings</th>\n",
       "    </tr>\n",
       "  </thead>\n",
       "  <tbody>\n",
       "    <tr>\n",
       "      <th>0</th>\n",
       "      <td>Intolerance: Love's Struggle Throughout the Ages</td>\n",
       "      <td>1916.0</td>\n",
       "      <td>Drama|History|War</td>\n",
       "      <td>NaN</td>\n",
       "      <td>USA</td>\n",
       "      <td>Not Rated</td>\n",
       "      <td>123.0</td>\n",
       "      <td>1.33</td>\n",
       "      <td>385907.0</td>\n",
       "      <td>NaN</td>\n",
       "      <td>...</td>\n",
       "      <td>22.0</td>\n",
       "      <td>9.0</td>\n",
       "      <td>481</td>\n",
       "      <td>691</td>\n",
       "      <td>1.0</td>\n",
       "      <td>10718</td>\n",
       "      <td>88.0</td>\n",
       "      <td>69.0</td>\n",
       "      <td>8.0</td>\n",
       "      <td>NaN</td>\n",
       "    </tr>\n",
       "    <tr>\n",
       "      <th>1</th>\n",
       "      <td>Over the Hill to the Poorhouse</td>\n",
       "      <td>1920.0</td>\n",
       "      <td>Crime|Drama</td>\n",
       "      <td>NaN</td>\n",
       "      <td>USA</td>\n",
       "      <td>NaN</td>\n",
       "      <td>110.0</td>\n",
       "      <td>1.33</td>\n",
       "      <td>100000.0</td>\n",
       "      <td>3000000.0</td>\n",
       "      <td>...</td>\n",
       "      <td>2.0</td>\n",
       "      <td>0.0</td>\n",
       "      <td>4</td>\n",
       "      <td>0</td>\n",
       "      <td>1.0</td>\n",
       "      <td>5</td>\n",
       "      <td>1.0</td>\n",
       "      <td>1.0</td>\n",
       "      <td>4.8</td>\n",
       "      <td>2900000.0</td>\n",
       "    </tr>\n",
       "    <tr>\n",
       "      <th>2</th>\n",
       "      <td>The Big Parade</td>\n",
       "      <td>1925.0</td>\n",
       "      <td>Drama|Romance|War</td>\n",
       "      <td>NaN</td>\n",
       "      <td>USA</td>\n",
       "      <td>Not Rated</td>\n",
       "      <td>151.0</td>\n",
       "      <td>1.33</td>\n",
       "      <td>245000.0</td>\n",
       "      <td>NaN</td>\n",
       "      <td>...</td>\n",
       "      <td>12.0</td>\n",
       "      <td>6.0</td>\n",
       "      <td>108</td>\n",
       "      <td>226</td>\n",
       "      <td>0.0</td>\n",
       "      <td>4849</td>\n",
       "      <td>45.0</td>\n",
       "      <td>48.0</td>\n",
       "      <td>8.3</td>\n",
       "      <td>NaN</td>\n",
       "    </tr>\n",
       "    <tr>\n",
       "      <th>3</th>\n",
       "      <td>Metropolis</td>\n",
       "      <td>1927.0</td>\n",
       "      <td>Drama|Sci-Fi</td>\n",
       "      <td>German</td>\n",
       "      <td>Germany</td>\n",
       "      <td>Not Rated</td>\n",
       "      <td>145.0</td>\n",
       "      <td>1.33</td>\n",
       "      <td>6000000.0</td>\n",
       "      <td>26435.0</td>\n",
       "      <td>...</td>\n",
       "      <td>23.0</td>\n",
       "      <td>18.0</td>\n",
       "      <td>203</td>\n",
       "      <td>12000</td>\n",
       "      <td>1.0</td>\n",
       "      <td>111841</td>\n",
       "      <td>413.0</td>\n",
       "      <td>260.0</td>\n",
       "      <td>8.3</td>\n",
       "      <td>-5973565.0</td>\n",
       "    </tr>\n",
       "    <tr>\n",
       "      <th>4</th>\n",
       "      <td>Pandora's Box</td>\n",
       "      <td>1929.0</td>\n",
       "      <td>Crime|Drama|Romance</td>\n",
       "      <td>German</td>\n",
       "      <td>Germany</td>\n",
       "      <td>Not Rated</td>\n",
       "      <td>110.0</td>\n",
       "      <td>1.33</td>\n",
       "      <td>NaN</td>\n",
       "      <td>9950.0</td>\n",
       "      <td>...</td>\n",
       "      <td>20.0</td>\n",
       "      <td>3.0</td>\n",
       "      <td>455</td>\n",
       "      <td>926</td>\n",
       "      <td>1.0</td>\n",
       "      <td>7431</td>\n",
       "      <td>84.0</td>\n",
       "      <td>71.0</td>\n",
       "      <td>8.0</td>\n",
       "      <td>NaN</td>\n",
       "    </tr>\n",
       "  </tbody>\n",
       "</table>\n",
       "<p>5 rows × 26 columns</p>\n",
       "</div>"
      ],
      "text/plain": [
       "                                               Title    Year  \\\n",
       "0  Intolerance: Love's Struggle Throughout the Ages   1916.0   \n",
       "1                    Over the Hill to the Poorhouse   1920.0   \n",
       "2                                    The Big Parade   1925.0   \n",
       "3                                        Metropolis   1927.0   \n",
       "4                                     Pandora's Box   1929.0   \n",
       "\n",
       "                Genres Language  Country Content Rating  Duration  \\\n",
       "0    Drama|History|War      NaN      USA      Not Rated     123.0   \n",
       "1          Crime|Drama      NaN      USA            NaN     110.0   \n",
       "2    Drama|Romance|War      NaN      USA      Not Rated     151.0   \n",
       "3         Drama|Sci-Fi   German  Germany      Not Rated     145.0   \n",
       "4  Crime|Drama|Romance   German  Germany      Not Rated     110.0   \n",
       "\n",
       "   Aspect Ratio     Budget  Gross Earnings  ... Facebook Likes - Actor 2  \\\n",
       "0          1.33   385907.0             NaN  ...                     22.0   \n",
       "1          1.33   100000.0       3000000.0  ...                      2.0   \n",
       "2          1.33   245000.0             NaN  ...                     12.0   \n",
       "3          1.33  6000000.0         26435.0  ...                     23.0   \n",
       "4          1.33        NaN          9950.0  ...                     20.0   \n",
       "\n",
       "  Facebook Likes - Actor 3 Facebook Likes - cast Total Facebook likes - Movie  \\\n",
       "0                      9.0                         481                    691   \n",
       "1                      0.0                           4                      0   \n",
       "2                      6.0                         108                    226   \n",
       "3                     18.0                         203                  12000   \n",
       "4                      3.0                         455                    926   \n",
       "\n",
       "   Facenumber in posters  User Votes  Reviews by Users  Reviews by Crtiics  \\\n",
       "0                    1.0       10718              88.0                69.0   \n",
       "1                    1.0           5               1.0                 1.0   \n",
       "2                    0.0        4849              45.0                48.0   \n",
       "3                    1.0      111841             413.0               260.0   \n",
       "4                    1.0        7431              84.0                71.0   \n",
       "\n",
       "   IMDB Score  Net Earnings  \n",
       "0         8.0           NaN  \n",
       "1         4.8     2900000.0  \n",
       "2         8.3           NaN  \n",
       "3         8.3    -5973565.0  \n",
       "4         8.0           NaN  \n",
       "\n",
       "[5 rows x 26 columns]"
      ]
     },
     "execution_count": 32,
     "metadata": {},
     "output_type": "execute_result"
    }
   ],
   "source": [
    "import pandas as pd\n",
    "xlsMovies = 'movies2.xls'\n",
    "dfMovies2 = pd.read_excel(xlsMovies, header=None, skipros=5)\n",
    "dfMovies.head(5)"
   ]
  },
  {
   "cell_type": "code",
   "execution_count": 34,
   "metadata": {},
   "outputs": [
    {
     "data": {
      "text/html": [
       "<div>\n",
       "<style scoped>\n",
       "    .dataframe tbody tr th:only-of-type {\n",
       "        vertical-align: middle;\n",
       "    }\n",
       "\n",
       "    .dataframe tbody tr th {\n",
       "        vertical-align: top;\n",
       "    }\n",
       "\n",
       "    .dataframe thead th {\n",
       "        text-align: right;\n",
       "    }\n",
       "</style>\n",
       "<table border=\"1\" class=\"dataframe\">\n",
       "  <thead>\n",
       "    <tr style=\"text-align: right;\">\n",
       "      <th></th>\n",
       "      <th>0</th>\n",
       "      <th>1</th>\n",
       "      <th>2</th>\n",
       "    </tr>\n",
       "  </thead>\n",
       "  <tbody>\n",
       "    <tr>\n",
       "      <th>0</th>\n",
       "      <td>Intolerance: Love's Struggle Throughout the Ages</td>\n",
       "      <td>1916</td>\n",
       "      <td>Drama|History|War</td>\n",
       "    </tr>\n",
       "    <tr>\n",
       "      <th>1</th>\n",
       "      <td>Over the Hill to the Poorhouse</td>\n",
       "      <td>1920</td>\n",
       "      <td>Crime|Drama</td>\n",
       "    </tr>\n",
       "  </tbody>\n",
       "</table>\n",
       "</div>"
      ],
      "text/plain": [
       "                                                   0     1                  2\n",
       "0  Intolerance: Love's Struggle Throughout the Ages   1916  Drama|History|War\n",
       "1                    Over the Hill to the Poorhouse   1920        Crime|Drama"
      ]
     },
     "execution_count": 34,
     "metadata": {},
     "output_type": "execute_result"
    }
   ],
   "source": [
    "dfMovies3 = pd.read_excel(xlsMovies, header=None, skiprows=5, usecols=[0, 1, 2])\n",
    "dfMovies3.head(2)"
   ]
  },
  {
   "cell_type": "code",
   "execution_count": 35,
   "metadata": {},
   "outputs": [
    {
     "data": {
      "text/html": [
       "<div>\n",
       "<style scoped>\n",
       "    .dataframe tbody tr th:only-of-type {\n",
       "        vertical-align: middle;\n",
       "    }\n",
       "\n",
       "    .dataframe tbody tr th {\n",
       "        vertical-align: top;\n",
       "    }\n",
       "\n",
       "    .dataframe thead th {\n",
       "        text-align: right;\n",
       "    }\n",
       "</style>\n",
       "<table border=\"1\" class=\"dataframe\">\n",
       "  <thead>\n",
       "    <tr style=\"text-align: right;\">\n",
       "      <th></th>\n",
       "      <th>Title</th>\n",
       "      <th>Year</th>\n",
       "      <th>Genres</th>\n",
       "    </tr>\n",
       "  </thead>\n",
       "  <tbody>\n",
       "    <tr>\n",
       "      <th>0</th>\n",
       "      <td>Intolerance: Love's Struggle Throughout the Ages</td>\n",
       "      <td>1916</td>\n",
       "      <td>Drama|History|War</td>\n",
       "    </tr>\n",
       "    <tr>\n",
       "      <th>1</th>\n",
       "      <td>Over the Hill to the Poorhouse</td>\n",
       "      <td>1920</td>\n",
       "      <td>Crime|Drama</td>\n",
       "    </tr>\n",
       "  </tbody>\n",
       "</table>\n",
       "</div>"
      ],
      "text/plain": [
       "                                               Title  Year             Genres\n",
       "0  Intolerance: Love's Struggle Throughout the Ages   1916  Drama|History|War\n",
       "1                    Over the Hill to the Poorhouse   1920        Crime|Drama"
      ]
     },
     "execution_count": 35,
     "metadata": {},
     "output_type": "execute_result"
    }
   ],
   "source": [
    "dfMovies3.columns = ['Title', 'Year', 'Genres']\n",
    "dfMovies3.head(2)"
   ]
  },
  {
   "cell_type": "markdown",
   "metadata": {},
   "source": [
    "## Pandas y SQL"
   ]
  },
  {
   "cell_type": "code",
   "execution_count": 36,
   "metadata": {},
   "outputs": [
    {
     "ename": "InterfaceError",
     "evalue": "('IM002', '[IM002] [Microsoft][Administrador de controladores ODBC] No se encuentra el nombre del origen de datos y no se especificó ningún controlador predeterminado (0) (SQLDriverConnect)')",
     "output_type": "error",
     "traceback": [
      "\u001b[1;31m---------------------------------------------------------------------------\u001b[0m",
      "\u001b[1;31mInterfaceError\u001b[0m                            Traceback (most recent call last)",
      "\u001b[1;32m<ipython-input-36-7d2348efb156>\u001b[0m in \u001b[0;36m<module>\u001b[1;34m\u001b[0m\n\u001b[0;32m      9\u001b[0m r'MARS_Connetion=yes;')\n\u001b[0;32m     10\u001b[0m \u001b[1;33m\u001b[0m\u001b[0m\n\u001b[1;32m---> 11\u001b[1;33m \u001b[0mcon\u001b[0m \u001b[1;33m=\u001b[0m \u001b[0mpyodbc\u001b[0m\u001b[1;33m.\u001b[0m\u001b[0mconnect\u001b[0m\u001b[1;33m(\u001b[0m\u001b[0mconnstr\u001b[0m\u001b[1;33m)\u001b[0m\u001b[1;33m\u001b[0m\u001b[1;33m\u001b[0m\u001b[0m\n\u001b[0m\u001b[0;32m     12\u001b[0m \u001b[0mquery\u001b[0m \u001b[1;33m=\u001b[0m \u001b[1;34m\"SELECT * FROM Orders\"\u001b[0m\u001b[1;33m\u001b[0m\u001b[1;33m\u001b[0m\u001b[0m\n\u001b[0;32m     13\u001b[0m \u001b[0mdfSQL\u001b[0m \u001b[1;33m=\u001b[0m \u001b[0mpd\u001b[0m\u001b[1;33m.\u001b[0m\u001b[0mread_sql\u001b[0m\u001b[1;33m(\u001b[0m\u001b[0mquery\u001b[0m\u001b[1;33m,\u001b[0m \u001b[0mcon\u001b[0m\u001b[1;33m)\u001b[0m\u001b[1;33m\u001b[0m\u001b[1;33m\u001b[0m\u001b[0m\n",
      "\u001b[1;31mInterfaceError\u001b[0m: ('IM002', '[IM002] [Microsoft][Administrador de controladores ODBC] No se encuentra el nombre del origen de datos y no se especificó ningún controlador predeterminado (0) (SQLDriverConnect)')"
     ]
    }
   ],
   "source": [
    "import pandas as pd, pyodbc\n",
    "\n",
    "connstr = (\n",
    "r'Driver=ODBC Driver 13 for SQL Server;'\n",
    "r'Server=192.168.40.29,1433;'\n",
    "r'Database=NORTHWIND;'\n",
    "r'UID=esen'\n",
    "r'PWD=Esen!-2019?;'\n",
    "r'MARS_Connetion=yes;')\n",
    "\n",
    "con = pyodbc.connect(connstr)\n",
    "query = \"SELECT * FROM Orders\"\n",
    "dfSQL = pd.read_sql(query, con)\n",
    "dfSQL.head()"
   ]
  },
  {
   "cell_type": "code",
   "execution_count": null,
   "metadata": {},
   "outputs": [],
   "source": [
    "dfSQL.info()"
   ]
  },
  {
   "cell_type": "code",
   "execution_count": null,
   "metadata": {},
   "outputs": [],
   "source": [
    "dfSQL.ShipCountry.unique()"
   ]
  },
  {
   "cell_type": "markdown",
   "metadata": {},
   "source": [
    "## Mising values (Missing Data in Pandas)"
   ]
  },
  {
   "cell_type": "code",
   "execution_count": 1,
   "metadata": {},
   "outputs": [
    {
     "data": {
      "text/plain": [
       "array([1, None, 3, 4], dtype=object)"
      ]
     },
     "execution_count": 1,
     "metadata": {},
     "output_type": "execute_result"
    }
   ],
   "source": [
    "import numpy as np, pandas as pd\n",
    "\n",
    "valores1 = np.array([1, None, 3, 4])\n",
    "valores1"
   ]
  },
  {
   "cell_type": "code",
   "execution_count": 2,
   "metadata": {},
   "outputs": [
    {
     "name": "stdout",
     "output_type": "stream",
     "text": [
      "dtype =  object\n",
      "870 ms ± 127 ms per loop (mean ± std. dev. of 7 runs, 1 loop each)\n",
      "\n",
      "dtype =  int\n",
      "28.3 ms ± 9.55 ms per loop (mean ± std. dev. of 7 runs, 10 loops each)\n",
      "\n"
     ]
    }
   ],
   "source": [
    "for dtype in ['object', 'int']:\n",
    "    print(\"dtype = \", dtype)\n",
    "    %timeit np.arange(1E6, dtype=dtype).sum()\n",
    "    print()"
   ]
  },
  {
   "cell_type": "code",
   "execution_count": 3,
   "metadata": {},
   "outputs": [
    {
     "data": {
      "text/plain": [
       "dtype('float64')"
      ]
     },
     "execution_count": 3,
     "metadata": {},
     "output_type": "execute_result"
    }
   ],
   "source": [
    "valores2 = np.array([1, np.nan, 3, 4])\n",
    "valores2.dtype"
   ]
  },
  {
   "cell_type": "code",
   "execution_count": 5,
   "metadata": {},
   "outputs": [
    {
     "name": "stdout",
     "output_type": "stream",
     "text": [
      "nan\n",
      "nan\n",
      "nan nan nan\n",
      "8.0 1.0 4.0\n"
     ]
    }
   ],
   "source": [
    "#Cualquier operación numérica con np.nan da como resultado nan\n",
    "print(1+np.nan)\n",
    "print(0*np.nan)\n",
    "print(valores2.sum(), valores2.min(), valores2.max())\n",
    "print(np.nansum(valores2), np.nanmin(valores2), np.nanmax(valores2))"
   ]
  },
  {
   "cell_type": "markdown",
   "metadata": {},
   "source": [
    "## **NaN** and **None** in Pandas"
   ]
  },
  {
   "cell_type": "code",
   "execution_count": 6,
   "metadata": {},
   "outputs": [
    {
     "data": {
      "text/plain": [
       "0    1.0\n",
       "1    NaN\n",
       "2    2.0\n",
       "3    NaN\n",
       "dtype: float64"
      ]
     },
     "execution_count": 6,
     "metadata": {},
     "output_type": "execute_result"
    }
   ],
   "source": [
    "pd.Series([1, np.nan, 2, None])"
   ]
  },
  {
   "cell_type": "code",
   "execution_count": 7,
   "metadata": {},
   "outputs": [
    {
     "data": {
      "text/plain": [
       "0    0\n",
       "1    1\n",
       "dtype: int32"
      ]
     },
     "execution_count": 7,
     "metadata": {},
     "output_type": "execute_result"
    }
   ],
   "source": [
    "x = pd.Series(range(2), dtype=int)\n",
    "x"
   ]
  },
  {
   "cell_type": "code",
   "execution_count": 8,
   "metadata": {},
   "outputs": [
    {
     "data": {
      "text/plain": [
       "0    NaN\n",
       "1    1.0\n",
       "dtype: float64"
      ]
     },
     "execution_count": 8,
     "metadata": {},
     "output_type": "execute_result"
    }
   ],
   "source": [
    "x[0] = None\n",
    "x"
   ]
  },
  {
   "cell_type": "markdown",
   "metadata": {},
   "source": [
    "### Operating on Null Values"
   ]
  },
  {
   "cell_type": "markdown",
   "metadata": {},
   "source": [
    "* **isnull()**\n",
    "* **notnull()**\n",
    "* **dropna()**\n",
    "* **fillna()**"
   ]
  },
  {
   "cell_type": "code",
   "execution_count": 9,
   "metadata": {},
   "outputs": [
    {
     "data": {
      "text/plain": [
       "0       1\n",
       "1     NaN\n",
       "2      hi\n",
       "3    None\n",
       "dtype: object"
      ]
     },
     "execution_count": 9,
     "metadata": {},
     "output_type": "execute_result"
    }
   ],
   "source": [
    "datos = pd.Series([1, np.nan, 'hi', None])\n",
    "datos"
   ]
  },
  {
   "cell_type": "code",
   "execution_count": 10,
   "metadata": {},
   "outputs": [
    {
     "data": {
      "text/plain": [
       "0    False\n",
       "1     True\n",
       "2    False\n",
       "3     True\n",
       "dtype: bool"
      ]
     },
     "execution_count": 10,
     "metadata": {},
     "output_type": "execute_result"
    }
   ],
   "source": [
    "datos.isnull()"
   ]
  },
  {
   "cell_type": "code",
   "execution_count": 11,
   "metadata": {},
   "outputs": [
    {
     "data": {
      "text/plain": [
       "0     1\n",
       "2    hi\n",
       "dtype: object"
      ]
     },
     "execution_count": 11,
     "metadata": {},
     "output_type": "execute_result"
    }
   ],
   "source": [
    "datos[datos.notnull()]"
   ]
  },
  {
   "cell_type": "code",
   "execution_count": 12,
   "metadata": {},
   "outputs": [
    {
     "data": {
      "text/plain": [
       "0     1\n",
       "2    hi\n",
       "dtype: object"
      ]
     },
     "execution_count": 12,
     "metadata": {},
     "output_type": "execute_result"
    }
   ],
   "source": [
    "datos.dropna()"
   ]
  },
  {
   "cell_type": "code",
   "execution_count": 13,
   "metadata": {},
   "outputs": [
    {
     "data": {
      "text/html": [
       "<div>\n",
       "<style scoped>\n",
       "    .dataframe tbody tr th:only-of-type {\n",
       "        vertical-align: middle;\n",
       "    }\n",
       "\n",
       "    .dataframe tbody tr th {\n",
       "        vertical-align: top;\n",
       "    }\n",
       "\n",
       "    .dataframe thead th {\n",
       "        text-align: right;\n",
       "    }\n",
       "</style>\n",
       "<table border=\"1\" class=\"dataframe\">\n",
       "  <thead>\n",
       "    <tr style=\"text-align: right;\">\n",
       "      <th></th>\n",
       "      <th>0</th>\n",
       "      <th>1</th>\n",
       "      <th>2</th>\n",
       "    </tr>\n",
       "  </thead>\n",
       "  <tbody>\n",
       "    <tr>\n",
       "      <th>0</th>\n",
       "      <td>1.0</td>\n",
       "      <td>NaN</td>\n",
       "      <td>2</td>\n",
       "    </tr>\n",
       "    <tr>\n",
       "      <th>1</th>\n",
       "      <td>2.0</td>\n",
       "      <td>3.0</td>\n",
       "      <td>5</td>\n",
       "    </tr>\n",
       "    <tr>\n",
       "      <th>2</th>\n",
       "      <td>NaN</td>\n",
       "      <td>4.0</td>\n",
       "      <td>6</td>\n",
       "    </tr>\n",
       "  </tbody>\n",
       "</table>\n",
       "</div>"
      ],
      "text/plain": [
       "     0    1  2\n",
       "0  1.0  NaN  2\n",
       "1  2.0  3.0  5\n",
       "2  NaN  4.0  6"
      ]
     },
     "execution_count": 13,
     "metadata": {},
     "output_type": "execute_result"
    }
   ],
   "source": [
    "df = pd.DataFrame([[1, np.nan, 2],\n",
    "                  [2, 3, 5],\n",
    "                  [np.nan, 4, 6]])\n",
    "df"
   ]
  },
  {
   "cell_type": "code",
   "execution_count": 14,
   "metadata": {},
   "outputs": [
    {
     "data": {
      "text/html": [
       "<div>\n",
       "<style scoped>\n",
       "    .dataframe tbody tr th:only-of-type {\n",
       "        vertical-align: middle;\n",
       "    }\n",
       "\n",
       "    .dataframe tbody tr th {\n",
       "        vertical-align: top;\n",
       "    }\n",
       "\n",
       "    .dataframe thead th {\n",
       "        text-align: right;\n",
       "    }\n",
       "</style>\n",
       "<table border=\"1\" class=\"dataframe\">\n",
       "  <thead>\n",
       "    <tr style=\"text-align: right;\">\n",
       "      <th></th>\n",
       "      <th>0</th>\n",
       "      <th>1</th>\n",
       "      <th>2</th>\n",
       "    </tr>\n",
       "  </thead>\n",
       "  <tbody>\n",
       "    <tr>\n",
       "      <th>1</th>\n",
       "      <td>2.0</td>\n",
       "      <td>3.0</td>\n",
       "      <td>5</td>\n",
       "    </tr>\n",
       "  </tbody>\n",
       "</table>\n",
       "</div>"
      ],
      "text/plain": [
       "     0    1  2\n",
       "1  2.0  3.0  5"
      ]
     },
     "execution_count": 14,
     "metadata": {},
     "output_type": "execute_result"
    }
   ],
   "source": [
    "df.dropna()"
   ]
  },
  {
   "cell_type": "code",
   "execution_count": 15,
   "metadata": {},
   "outputs": [
    {
     "data": {
      "text/html": [
       "<div>\n",
       "<style scoped>\n",
       "    .dataframe tbody tr th:only-of-type {\n",
       "        vertical-align: middle;\n",
       "    }\n",
       "\n",
       "    .dataframe tbody tr th {\n",
       "        vertical-align: top;\n",
       "    }\n",
       "\n",
       "    .dataframe thead th {\n",
       "        text-align: right;\n",
       "    }\n",
       "</style>\n",
       "<table border=\"1\" class=\"dataframe\">\n",
       "  <thead>\n",
       "    <tr style=\"text-align: right;\">\n",
       "      <th></th>\n",
       "      <th>2</th>\n",
       "    </tr>\n",
       "  </thead>\n",
       "  <tbody>\n",
       "    <tr>\n",
       "      <th>0</th>\n",
       "      <td>2</td>\n",
       "    </tr>\n",
       "    <tr>\n",
       "      <th>1</th>\n",
       "      <td>5</td>\n",
       "    </tr>\n",
       "    <tr>\n",
       "      <th>2</th>\n",
       "      <td>6</td>\n",
       "    </tr>\n",
       "  </tbody>\n",
       "</table>\n",
       "</div>"
      ],
      "text/plain": [
       "   2\n",
       "0  2\n",
       "1  5\n",
       "2  6"
      ]
     },
     "execution_count": 15,
     "metadata": {},
     "output_type": "execute_result"
    }
   ],
   "source": [
    "df.dropna(axis='columns')"
   ]
  },
  {
   "cell_type": "code",
   "execution_count": 16,
   "metadata": {},
   "outputs": [
    {
     "data": {
      "text/html": [
       "<div>\n",
       "<style scoped>\n",
       "    .dataframe tbody tr th:only-of-type {\n",
       "        vertical-align: middle;\n",
       "    }\n",
       "\n",
       "    .dataframe tbody tr th {\n",
       "        vertical-align: top;\n",
       "    }\n",
       "\n",
       "    .dataframe thead th {\n",
       "        text-align: right;\n",
       "    }\n",
       "</style>\n",
       "<table border=\"1\" class=\"dataframe\">\n",
       "  <thead>\n",
       "    <tr style=\"text-align: right;\">\n",
       "      <th></th>\n",
       "      <th>0</th>\n",
       "      <th>1</th>\n",
       "      <th>2</th>\n",
       "      <th>3</th>\n",
       "    </tr>\n",
       "  </thead>\n",
       "  <tbody>\n",
       "    <tr>\n",
       "      <th>0</th>\n",
       "      <td>1.0</td>\n",
       "      <td>NaN</td>\n",
       "      <td>2</td>\n",
       "      <td>NaN</td>\n",
       "    </tr>\n",
       "    <tr>\n",
       "      <th>1</th>\n",
       "      <td>2.0</td>\n",
       "      <td>3.0</td>\n",
       "      <td>5</td>\n",
       "      <td>NaN</td>\n",
       "    </tr>\n",
       "    <tr>\n",
       "      <th>2</th>\n",
       "      <td>NaN</td>\n",
       "      <td>4.0</td>\n",
       "      <td>6</td>\n",
       "      <td>NaN</td>\n",
       "    </tr>\n",
       "  </tbody>\n",
       "</table>\n",
       "</div>"
      ],
      "text/plain": [
       "     0    1  2   3\n",
       "0  1.0  NaN  2 NaN\n",
       "1  2.0  3.0  5 NaN\n",
       "2  NaN  4.0  6 NaN"
      ]
     },
     "execution_count": 16,
     "metadata": {},
     "output_type": "execute_result"
    }
   ],
   "source": [
    "df[3] = np.nan\n",
    "df"
   ]
  },
  {
   "cell_type": "code",
   "execution_count": 17,
   "metadata": {},
   "outputs": [
    {
     "data": {
      "text/html": [
       "<div>\n",
       "<style scoped>\n",
       "    .dataframe tbody tr th:only-of-type {\n",
       "        vertical-align: middle;\n",
       "    }\n",
       "\n",
       "    .dataframe tbody tr th {\n",
       "        vertical-align: top;\n",
       "    }\n",
       "\n",
       "    .dataframe thead th {\n",
       "        text-align: right;\n",
       "    }\n",
       "</style>\n",
       "<table border=\"1\" class=\"dataframe\">\n",
       "  <thead>\n",
       "    <tr style=\"text-align: right;\">\n",
       "      <th></th>\n",
       "      <th>0</th>\n",
       "      <th>1</th>\n",
       "      <th>2</th>\n",
       "    </tr>\n",
       "  </thead>\n",
       "  <tbody>\n",
       "    <tr>\n",
       "      <th>0</th>\n",
       "      <td>1.0</td>\n",
       "      <td>NaN</td>\n",
       "      <td>2</td>\n",
       "    </tr>\n",
       "    <tr>\n",
       "      <th>1</th>\n",
       "      <td>2.0</td>\n",
       "      <td>3.0</td>\n",
       "      <td>5</td>\n",
       "    </tr>\n",
       "    <tr>\n",
       "      <th>2</th>\n",
       "      <td>NaN</td>\n",
       "      <td>4.0</td>\n",
       "      <td>6</td>\n",
       "    </tr>\n",
       "  </tbody>\n",
       "</table>\n",
       "</div>"
      ],
      "text/plain": [
       "     0    1  2\n",
       "0  1.0  NaN  2\n",
       "1  2.0  3.0  5\n",
       "2  NaN  4.0  6"
      ]
     },
     "execution_count": 17,
     "metadata": {},
     "output_type": "execute_result"
    }
   ],
   "source": [
    "df.dropna(axis='columns', how='all')"
   ]
  },
  {
   "cell_type": "markdown",
   "metadata": {},
   "source": [
    "### Filling NA values"
   ]
  },
  {
   "cell_type": "code",
   "execution_count": 18,
   "metadata": {
    "collapsed": true
   },
   "outputs": [
    {
     "data": {
      "text/plain": [
       "a    1.0\n",
       "b    NaN\n",
       "c    2.0\n",
       "d    NaN\n",
       "e    3.0\n",
       "dtype: float64"
      ]
     },
     "execution_count": 18,
     "metadata": {},
     "output_type": "execute_result"
    }
   ],
   "source": [
    "datos = pd.Series([1, np.nan, 2, None, 3], index=list('abcde'))\n",
    "datos"
   ]
  },
  {
   "cell_type": "code",
   "execution_count": 20,
   "metadata": {
    "collapsed": true
   },
   "outputs": [
    {
     "data": {
      "text/plain": [
       "a    1.0\n",
       "b    0.0\n",
       "c    2.0\n",
       "d    0.0\n",
       "e    3.0\n",
       "dtype: float64"
      ]
     },
     "execution_count": 20,
     "metadata": {},
     "output_type": "execute_result"
    }
   ],
   "source": [
    "datos.fillna(0)"
   ]
  },
  {
   "cell_type": "code",
   "execution_count": 21,
   "metadata": {
    "collapsed": true
   },
   "outputs": [
    {
     "data": {
      "text/plain": [
       "a    1.0\n",
       "b    2.0\n",
       "c    2.0\n",
       "d    2.0\n",
       "e    3.0\n",
       "dtype: float64"
      ]
     },
     "execution_count": 21,
     "metadata": {},
     "output_type": "execute_result"
    }
   ],
   "source": [
    "datos.fillna(datos.mean())"
   ]
  },
  {
   "cell_type": "code",
   "execution_count": 22,
   "metadata": {
    "collapsed": true
   },
   "outputs": [
    {
     "data": {
      "text/plain": [
       "a    1.0\n",
       "b    1.0\n",
       "c    2.0\n",
       "d    2.0\n",
       "e    3.0\n",
       "dtype: float64"
      ]
     },
     "execution_count": 22,
     "metadata": {},
     "output_type": "execute_result"
    }
   ],
   "source": [
    "datos.fillna(method='ffill') #ffill = forward-fill"
   ]
  },
  {
   "cell_type": "code",
   "execution_count": 23,
   "metadata": {
    "collapsed": true
   },
   "outputs": [
    {
     "data": {
      "text/plain": [
       "a    1.0\n",
       "b    2.0\n",
       "c    2.0\n",
       "d    3.0\n",
       "e    3.0\n",
       "dtype: float64"
      ]
     },
     "execution_count": 23,
     "metadata": {},
     "output_type": "execute_result"
    }
   ],
   "source": [
    "datos.fillna(method='bfill') #bfill = back-fill"
   ]
  },
  {
   "cell_type": "code",
   "execution_count": 24,
   "metadata": {
    "collapsed": true
   },
   "outputs": [
    {
     "data": {
      "text/html": [
       "<div>\n",
       "<style scoped>\n",
       "    .dataframe tbody tr th:only-of-type {\n",
       "        vertical-align: middle;\n",
       "    }\n",
       "\n",
       "    .dataframe tbody tr th {\n",
       "        vertical-align: top;\n",
       "    }\n",
       "\n",
       "    .dataframe thead th {\n",
       "        text-align: right;\n",
       "    }\n",
       "</style>\n",
       "<table border=\"1\" class=\"dataframe\">\n",
       "  <thead>\n",
       "    <tr style=\"text-align: right;\">\n",
       "      <th></th>\n",
       "      <th>0</th>\n",
       "      <th>1</th>\n",
       "      <th>2</th>\n",
       "      <th>3</th>\n",
       "    </tr>\n",
       "  </thead>\n",
       "  <tbody>\n",
       "    <tr>\n",
       "      <th>0</th>\n",
       "      <td>1.0</td>\n",
       "      <td>NaN</td>\n",
       "      <td>2</td>\n",
       "      <td>NaN</td>\n",
       "    </tr>\n",
       "    <tr>\n",
       "      <th>1</th>\n",
       "      <td>2.0</td>\n",
       "      <td>3.0</td>\n",
       "      <td>5</td>\n",
       "      <td>NaN</td>\n",
       "    </tr>\n",
       "    <tr>\n",
       "      <th>2</th>\n",
       "      <td>NaN</td>\n",
       "      <td>4.0</td>\n",
       "      <td>6</td>\n",
       "      <td>NaN</td>\n",
       "    </tr>\n",
       "  </tbody>\n",
       "</table>\n",
       "</div>"
      ],
      "text/plain": [
       "     0    1  2   3\n",
       "0  1.0  NaN  2 NaN\n",
       "1  2.0  3.0  5 NaN\n",
       "2  NaN  4.0  6 NaN"
      ]
     },
     "execution_count": 24,
     "metadata": {},
     "output_type": "execute_result"
    }
   ],
   "source": [
    "df"
   ]
  },
  {
   "cell_type": "code",
   "execution_count": 25,
   "metadata": {
    "collapsed": true
   },
   "outputs": [
    {
     "data": {
      "text/html": [
       "<div>\n",
       "<style scoped>\n",
       "    .dataframe tbody tr th:only-of-type {\n",
       "        vertical-align: middle;\n",
       "    }\n",
       "\n",
       "    .dataframe tbody tr th {\n",
       "        vertical-align: top;\n",
       "    }\n",
       "\n",
       "    .dataframe thead th {\n",
       "        text-align: right;\n",
       "    }\n",
       "</style>\n",
       "<table border=\"1\" class=\"dataframe\">\n",
       "  <thead>\n",
       "    <tr style=\"text-align: right;\">\n",
       "      <th></th>\n",
       "      <th>0</th>\n",
       "      <th>1</th>\n",
       "      <th>2</th>\n",
       "      <th>3</th>\n",
       "    </tr>\n",
       "  </thead>\n",
       "  <tbody>\n",
       "    <tr>\n",
       "      <th>0</th>\n",
       "      <td>1.0</td>\n",
       "      <td>1.0</td>\n",
       "      <td>2.0</td>\n",
       "      <td>2.0</td>\n",
       "    </tr>\n",
       "    <tr>\n",
       "      <th>1</th>\n",
       "      <td>2.0</td>\n",
       "      <td>3.0</td>\n",
       "      <td>5.0</td>\n",
       "      <td>5.0</td>\n",
       "    </tr>\n",
       "    <tr>\n",
       "      <th>2</th>\n",
       "      <td>NaN</td>\n",
       "      <td>4.0</td>\n",
       "      <td>6.0</td>\n",
       "      <td>6.0</td>\n",
       "    </tr>\n",
       "  </tbody>\n",
       "</table>\n",
       "</div>"
      ],
      "text/plain": [
       "     0    1    2    3\n",
       "0  1.0  1.0  2.0  2.0\n",
       "1  2.0  3.0  5.0  5.0\n",
       "2  NaN  4.0  6.0  6.0"
      ]
     },
     "execution_count": 25,
     "metadata": {},
     "output_type": "execute_result"
    }
   ],
   "source": [
    "df.fillna(method='ffill', axis=1)"
   ]
  },
  {
   "cell_type": "code",
   "execution_count": null,
   "metadata": {},
   "outputs": [],
   "source": []
  }
 ],
 "metadata": {
  "kernelspec": {
   "display_name": "Python 3",
   "language": "python",
   "name": "python3"
  },
  "language_info": {
   "codemirror_mode": {
    "name": "ipython",
    "version": 3
   },
   "file_extension": ".py",
   "mimetype": "text/x-python",
   "name": "python",
   "nbconvert_exporter": "python",
   "pygments_lexer": "ipython3",
   "version": "3.7.3"
  }
 },
 "nbformat": 4,
 "nbformat_minor": 2
}
