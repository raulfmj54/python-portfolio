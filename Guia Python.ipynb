{
 "cells": [
  {
   "cell_type": "markdown",
   "metadata": {},
   "source": [
    "## Python Guia 2\n"
   ]
  },
  {
   "cell_type": "markdown",
   "metadata": {},
   "source": [
    "# < > - Guia 02 Python\n",
    "## Ejercicio 1"
   ]
  },
  {
   "cell_type": "code",
   "execution_count": 21,
   "metadata": {},
   "outputs": [
    {
     "name": "stdout",
     "output_type": "stream",
     "text": [
      "[[1 1 1 1 1 1 1 1]\n",
      " [1 0 0 0 0 0 0 1]\n",
      " [1 0 0 0 0 0 0 1]\n",
      " [1 0 0 0 0 0 0 1]\n",
      " [1 0 0 0 0 0 0 1]\n",
      " [1 0 0 0 0 0 0 1]\n",
      " [1 0 0 0 0 0 0 1]\n",
      " [1 1 1 1 1 1 1 1]]\n"
     ]
    }
   ],
   "source": [
    "x = np.zeros((8,8),dtype=int)\n",
    "x[0::7,0:8] = 1\n",
    "x[1:7,0::7] = 1\n",
    "print(x)"
   ]
  },
  {
   "cell_type": "markdown",
   "metadata": {},
   "source": [
    "## Ejercicio 3"
   ]
  },
  {
   "cell_type": "code",
   "execution_count": 54,
   "metadata": {},
   "outputs": [
    {
     "name": "stdout",
     "output_type": "stream",
     "text": [
      "(1, 4, 6)\n",
      "(1, 4, 7)\n",
      "(1, 5, 6)\n",
      "(1, 5, 7)\n",
      "(2, 4, 6)\n",
      "(2, 4, 7)\n",
      "(2, 5, 6)\n",
      "(2, 5, 7)\n",
      "(3, 4, 6)\n",
      "(3, 4, 7)\n",
      "(3, 5, 6)\n",
      "(3, 5, 7)\n"
     ]
    }
   ],
   "source": [
    "def cartesians(vectores):\n",
    "    \n",
    "    for element in itertools.product(*vectores):\n",
    "        print(element)\n",
    "        \n",
    "cartesians(([1, 2, 3],[4, 5],[6, 7]))"
   ]
  },
  {
   "cell_type": "markdown",
   "metadata": {},
   "source": [
    "## Ejercicio 2"
   ]
  },
  {
   "cell_type": "code",
   "execution_count": 107,
   "metadata": {},
   "outputs": [
    {
     "name": "stdout",
     "output_type": "stream",
     "text": [
      "Matriz:  [0.8099897  0.34415059 0.96522705 0.83874071 0.11764763]\n",
      "valor mas cercano a  0.5 : 0.34415058677130606\n"
     ]
    }
   ],
   "source": [
    "import numpy as np\n",
    "\n",
    "def valor_mas_cercano(z, x):\n",
    "    z = np.asarray(z)\n",
    "    idx = (np.abs(z - x)).argmin()\n",
    "    return z[idx]\n",
    "x = 0.5\n",
    "\n",
    "z = np.random.uniform(0,1,5)\n",
    "print(\"Matriz: \",z)\n",
    "print(\"valor mas cercano a \", x, \":\",valor_mas_cercano(z, 0.5))\n",
    "\n"
   ]
  },
  {
   "cell_type": "code",
   "execution_count": 97,
   "metadata": {},
   "outputs": [
    {
     "name": "stdout",
     "output_type": "stream",
     "text": [
      "[[1 4 6 8]\n",
      " [1 4 6 9]\n",
      " [1 4 7 8]\n",
      " [1 4 7 9]\n",
      " [1 5 6 8]\n",
      " [1 5 6 9]\n",
      " [1 5 7 8]\n",
      " [1 5 7 9]\n",
      " [2 4 6 8]\n",
      " [2 4 6 9]\n",
      " [2 4 7 8]\n",
      " [2 4 7 9]\n",
      " [2 5 6 8]\n",
      " [2 5 6 9]\n",
      " [2 5 7 8]\n",
      " [2 5 7 9]\n",
      " [3 4 6 8]\n",
      " [3 4 6 9]\n",
      " [3 4 7 8]\n",
      " [3 4 7 9]\n",
      " [3 5 6 8]\n",
      " [3 5 6 9]\n",
      " [3 5 7 8]\n",
      " [3 5 7 9]]\n",
      "None\n"
     ]
    }
   ],
   "source": [
    "import numpy as np\n",
    "def cartesians(vecfunc):\n",
    "    \n",
    "    list = np.stack([item for item in itertools.product(*vecfunc)]) \n",
    "    print(list)   \n",
    "    \n",
    "print(cartesians(([1, 2, 3],[4, 5],[6, 7],[8,9])))"
   ]
  },
  {
   "cell_type": "code",
   "execution_count": 283,
   "metadata": {},
   "outputs": [
    {
     "name": "stdout",
     "output_type": "stream",
     "text": [
      "Matriz:  [0.7998249  0.16002563 0.60884973 0.67094233 0.93421769]\n",
      "valor mas cercano a  0.5 : 0.6088497316607413\n"
     ]
    }
   ],
   "source": [
    "import numpy as np\n",
    "\n",
    "def valor_mas_cercano(z, x):\n",
    "    z = np.asarray(z)\n",
    "    idx = (np.abs(z - x)).argmin()\n",
    "    return z[idx]\n",
    "\n",
    "valor_mas_cercano(z,0.5)\n",
    "\n",
    "z = np.random.uniform(0,1,5)\n",
    "print(\"Matriz: \",z)\n",
    "print(\"valor mas cercano a \", x, \":\",valor_mas_cercano(z, 0.5))\n"
   ]
  },
  {
   "cell_type": "code",
   "execution_count": 100,
   "metadata": {},
   "outputs": [],
   "source": [
    "import numpy as np\n",
    "x = np.ones((3,3))"
   ]
  },
  {
   "cell_type": "code",
   "execution_count": 5,
   "metadata": {},
   "outputs": [
    {
     "data": {
      "text/plain": [
       "array([[1., 1., 1.],\n",
       "       [1., 1., 1.],\n",
       "       [1., 1., 1.]])"
      ]
     },
     "execution_count": 5,
     "metadata": {},
     "output_type": "execute_result"
    }
   ],
   "source": [
    "x"
   ]
  },
  {
   "cell_type": "code",
   "execution_count": 6,
   "metadata": {},
   "outputs": [],
   "source": [
    "x = np.zeros((8,8),dtype=int)"
   ]
  },
  {
   "cell_type": "code",
   "execution_count": 7,
   "metadata": {},
   "outputs": [
    {
     "data": {
      "text/plain": [
       "array([[0, 0, 0, 0, 0, 0, 0, 0],\n",
       "       [0, 0, 0, 0, 0, 0, 0, 0],\n",
       "       [0, 0, 0, 0, 0, 0, 0, 0],\n",
       "       [0, 0, 0, 0, 0, 0, 0, 0],\n",
       "       [0, 0, 0, 0, 0, 0, 0, 0],\n",
       "       [0, 0, 0, 0, 0, 0, 0, 0],\n",
       "       [0, 0, 0, 0, 0, 0, 0, 0],\n",
       "       [0, 0, 0, 0, 0, 0, 0, 0]])"
      ]
     },
     "execution_count": 7,
     "metadata": {},
     "output_type": "execute_result"
    }
   ],
   "source": [
    "x\n"
   ]
  },
  {
   "cell_type": "code",
   "execution_count": 20,
   "metadata": {},
   "outputs": [
    {
     "name": "stdout",
     "output_type": "stream",
     "text": [
      "[[1 1 1 1 1 1 1 1]\n",
      " [1 0 0 0 0 0 0 1]\n",
      " [1 0 0 0 0 0 0 1]\n",
      " [1 0 0 0 0 0 0 1]\n",
      " [1 0 0 0 0 0 0 1]\n",
      " [1 0 0 0 0 0 0 1]\n",
      " [1 0 0 0 0 0 0 1]\n",
      " [1 1 1 1 1 1 1 1]]\n"
     ]
    }
   ],
   "source": []
  },
  {
   "cell_type": "code",
   "execution_count": 31,
   "metadata": {},
   "outputs": [],
   "source": [
    "import itertools\n",
    "\n",
    "somelists = [\n",
    "   [1, 2, 3],\n",
    "   [4, 5],\n",
    "   [6, 7]\n",
    "]\n",
    "\n",
    "def cartesians(somelists):\n",
    "    \n",
    "    for element in itertools.product(*somelists):\n",
    "        print(element)"
   ]
  },
  {
   "cell_type": "code",
   "execution_count": 63,
   "metadata": {},
   "outputs": [
    {
     "name": "stdout",
     "output_type": "stream",
     "text": [
      "(1, 4, 6, 8)\n",
      "(1, 4, 6, 9)\n",
      "(1, 4, 7, 8)\n",
      "(1, 4, 7, 9)\n",
      "(1, 5, 6, 8)\n",
      "(1, 5, 6, 9)\n",
      "(1, 5, 7, 8)\n",
      "(1, 5, 7, 9)\n",
      "(2, 4, 6, 8)\n",
      "(2, 4, 6, 9)\n",
      "(2, 4, 7, 8)\n",
      "(2, 4, 7, 9)\n",
      "(2, 5, 6, 8)\n",
      "(2, 5, 6, 9)\n",
      "(2, 5, 7, 8)\n",
      "(2, 5, 7, 9)\n",
      "(3, 4, 6, 8)\n",
      "(3, 4, 6, 9)\n",
      "(3, 4, 7, 8)\n",
      "(3, 4, 7, 9)\n",
      "(3, 5, 6, 8)\n",
      "(3, 5, 6, 9)\n",
      "(3, 5, 7, 8)\n",
      "(3, 5, 7, 9)\n",
      "None\n"
     ]
    }
   ],
   "source": [
    "def vector(a,b):\n",
    "    if (a>b): return a\n",
    "    else: return b\n",
    "vecfunc = np.vectorize(vector)\n",
    "\n",
    "def cartesians(vecfunc):\n",
    "    \n",
    "    for element in itertools.product(*vecfunc):\n",
    "        print(element)\n",
    "        \n",
    "print(cartesians(([1, 2, 3],[4, 5],[6, 7],[8,9])))"
   ]
  },
  {
   "cell_type": "code",
   "execution_count": 57,
   "metadata": {},
   "outputs": [
    {
     "ename": "AttributeError",
     "evalue": "'list' object has no attribute 'zfill'",
     "output_type": "error",
     "traceback": [
      "\u001b[0;31m---------------------------------------------------------------------------\u001b[0m",
      "\u001b[0;31mAttributeError\u001b[0m                            Traceback (most recent call last)",
      "\u001b[0;32m<ipython-input-57-35cd636d2f95>\u001b[0m in \u001b[0;36m<module>\u001b[0;34m\u001b[0m\n\u001b[1;32m      1\u001b[0m \u001b[0mx\u001b[0m \u001b[0;34m=\u001b[0m \u001b[0;34m[\u001b[0m\u001b[0;36m5\u001b[0m\u001b[0;34m,\u001b[0m\u001b[0;36m4\u001b[0m\u001b[0;34m,\u001b[0m\u001b[0;36m1\u001b[0m\u001b[0;34m,\u001b[0m\u001b[0;36m7\u001b[0m\u001b[0;34m,\u001b[0m\u001b[0;36m6\u001b[0m\u001b[0;34m]\u001b[0m\u001b[0;34m\u001b[0m\u001b[0;34m\u001b[0m\u001b[0m\n\u001b[0;32m----> 2\u001b[0;31m \u001b[0mres\u001b[0m \u001b[0;34m=\u001b[0m \u001b[0mx\u001b[0m\u001b[0;34m.\u001b[0m\u001b[0mzfill\u001b[0m\u001b[0;34m(\u001b[0m\u001b[0;36m3\u001b[0m\u001b[0;34m)\u001b[0m\u001b[0;34m\u001b[0m\u001b[0;34m\u001b[0m\u001b[0m\n\u001b[0m",
      "\u001b[0;31mAttributeError\u001b[0m: 'list' object has no attribute 'zfill'"
     ]
    }
   ],
   "source": [
    "x = [5,4,1,7,6]\n",
    "res = x.zfill(3) "
   ]
  },
  {
   "cell_type": "code",
   "execution_count": 94,
   "metadata": {},
   "outputs": [
    {
     "name": "stdout",
     "output_type": "stream",
     "text": [
      "[[1 4 6]\n",
      " [1 4 7]\n",
      " [1 5 6]\n",
      " [1 5 7]\n",
      " [2 4 6]\n",
      " [2 4 7]\n",
      " [2 5 6]\n",
      " [2 5 7]\n",
      " [3 4 6]\n",
      " [3 4 7]\n",
      " [3 5 6]\n",
      " [3 5 7]]\n",
      "None\n"
     ]
    }
   ],
   "source": [
    "import numpy as np\n",
    "def cartesians(vecfunc):\n",
    "    \n",
    "    list = np.stack([item for item in itertools.product(*vecfunc)]) \n",
    "    print(list)   \n",
    "    \n",
    "print(cartesians(([1, 2, 3],[4, 5],[6, 7])))"
   ]
  },
  {
   "cell_type": "code",
   "execution_count": 128,
   "metadata": {},
   "outputs": [
    {
     "data": {
      "text/plain": [
       "array([[5, 4],\n",
       "       [1, 7],\n",
       "       [6, 0],\n",
       "       [0, 0],\n",
       "       [0, 0]])"
      ]
     },
     "execution_count": 128,
     "metadata": {},
     "output_type": "execute_result"
    }
   ],
   "source": [
    "a = np.array([5,4,1,7,6])\n",
    "\n",
    "\n",
    "b = np.zeros((5),dtype=int)\n",
    "np.hstack((a,b)).reshape(a.shape[0],-1)"
   ]
  },
  {
   "cell_type": "code",
   "execution_count": 217,
   "metadata": {},
   "outputs": [
    {
     "name": "stdout",
     "output_type": "stream",
     "text": [
      "[5. 4. 1. 7. 6. 0. 0. 0.]\n"
     ]
    }
   ],
   "source": [
    "import numpy as np\n",
    "\n",
    "a = np.array([5,4,1,7,6])\n",
    "b = 3\n",
    "\n",
    "def intercalar(a, b):\n",
    "    \n",
    "    z = np.asarray(a)\n",
    "    y = np.zeros(b)\n",
    "    c =  np.concatenate((z,y))\n",
    "    print(c)\n",
    "\n",
    "intercalar(a,b)"
   ]
  },
  {
   "cell_type": "code",
   "execution_count": 213,
   "metadata": {},
   "outputs": [
    {
     "data": {
      "text/plain": [
       "array([5., 4., 1., 7., 6., 0., 0., 0.])"
      ]
     },
     "execution_count": 213,
     "metadata": {},
     "output_type": "execute_result"
    }
   ],
   "source": [
    "c\n"
   ]
  },
  {
   "cell_type": "code",
   "execution_count": 219,
   "metadata": {},
   "outputs": [
    {
     "ename": "IndexError",
     "evalue": "only integers, slices (`:`), ellipsis (`...`), numpy.newaxis (`None`) and integer or boolean arrays are valid indices",
     "output_type": "error",
     "traceback": [
      "\u001b[0;31m---------------------------------------------------------------------------\u001b[0m",
      "\u001b[0;31mIndexError\u001b[0m                                Traceback (most recent call last)",
      "\u001b[0;32m<ipython-input-219-8f9a8c238424>\u001b[0m in \u001b[0;36m<module>\u001b[0;34m\u001b[0m\n\u001b[1;32m      1\u001b[0m \u001b[0mnumber\u001b[0m \u001b[0;34m=\u001b[0m \u001b[0;36m15\u001b[0m \u001b[0;31m# number of zeroes to add\u001b[0m\u001b[0;34m\u001b[0m\u001b[0;34m\u001b[0m\u001b[0m\n\u001b[1;32m      2\u001b[0m \u001b[0mdf\u001b[0m\u001b[0;34m=\u001b[0m \u001b[0mnp\u001b[0m\u001b[0;34m.\u001b[0m\u001b[0marray\u001b[0m\u001b[0;34m(\u001b[0m\u001b[0;34m[\u001b[0m\u001b[0;36m5\u001b[0m\u001b[0;34m,\u001b[0m\u001b[0;36m4\u001b[0m\u001b[0;34m,\u001b[0m\u001b[0;36m1\u001b[0m\u001b[0;34m,\u001b[0m\u001b[0;36m7\u001b[0m\u001b[0;34m,\u001b[0m\u001b[0;36m6\u001b[0m\u001b[0;34m]\u001b[0m\u001b[0;34m)\u001b[0m\u001b[0;34m\u001b[0m\u001b[0;34m\u001b[0m\u001b[0m\n\u001b[0;32m----> 3\u001b[0;31m \u001b[0mdf\u001b[0m\u001b[0;34m[\u001b[0m\u001b[0;34m'ID'\u001b[0m\u001b[0;34m]\u001b[0m \u001b[0;34m=\u001b[0m \u001b[0mdf\u001b[0m\u001b[0;34m[\u001b[0m\u001b[0;34m'ID'\u001b[0m\u001b[0;34m]\u001b[0m\u001b[0;34m.\u001b[0m\u001b[0mstr\u001b[0m\u001b[0;34m.\u001b[0m\u001b[0mzfill\u001b[0m\u001b[0;34m(\u001b[0m\u001b[0mnumber\u001b[0m\u001b[0;34m)\u001b[0m\u001b[0;34m\u001b[0m\u001b[0;34m\u001b[0m\u001b[0m\n\u001b[0m",
      "\u001b[0;31mIndexError\u001b[0m: only integers, slices (`:`), ellipsis (`...`), numpy.newaxis (`None`) and integer or boolean arrays are valid indices"
     ]
    }
   ],
   "source": [
    "number = 15 # number of zeroes to add\n",
    "df= np.array([5,4,1,7,6])\n",
    "df['ID'] = df['ID'].str.zfill(number)\n",
    "\n",
    "str.zfill(width)"
   ]
  },
  {
   "cell_type": "code",
   "execution_count": 260,
   "metadata": {},
   "outputs": [
    {
     "name": "stdout",
     "output_type": "stream",
     "text": [
      "[array([0., 0., 0.]), 5, array([0., 0., 0.]), 4, array([0., 0., 0.]), 1, array([0., 0., 0.]), 7, array([0., 0., 0.]), 6]\n"
     ]
    }
   ],
   "source": [
    "import numpy as np\n",
    "\n",
    "a = np.array([5,4,1,7,6])\n",
    "b = 3\n",
    "\n",
    "def intercalar_ceros(a, b):\n",
    "    \n",
    "    z = np.asarray(a)\n",
    "    y = np.zeros(b)\n",
    "    c =  [v for elt in a for v in (y,elt)]\n",
    "    print(c)\n",
    "    \n",
    "\n",
    "    \n",
    "    \n",
    "intercalar_ceros(a,b)"
   ]
  },
  {
   "cell_type": "code",
   "execution_count": 278,
   "metadata": {},
   "outputs": [
    {
     "data": {
      "text/plain": [
       "array([4., 4., 4.])"
      ]
     },
     "execution_count": 278,
     "metadata": {},
     "output_type": "execute_result"
    }
   ],
   "source": [
    "a = np.array([5,4,1,7,6])\n",
    "b = 3\n",
    "y = np.zeros(b)\n",
    "a[-4] + y"
   ]
  },
  {
   "cell_type": "code",
   "execution_count": null,
   "metadata": {},
   "outputs": [],
   "source": []
  }
 ],
 "metadata": {
  "kernelspec": {
   "display_name": "Python 3",
   "language": "python",
   "name": "python3"
  },
  "language_info": {
   "codemirror_mode": {
    "name": "ipython",
    "version": 3
   },
   "file_extension": ".py",
   "mimetype": "text/x-python",
   "name": "python",
   "nbconvert_exporter": "python",
   "pygments_lexer": "ipython3",
   "version": "3.8.3"
  }
 },
 "nbformat": 4,
 "nbformat_minor": 4
}
